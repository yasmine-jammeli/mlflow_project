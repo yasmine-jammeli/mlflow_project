{
  "cells": [
    {
      "cell_type": "markdown",
      "metadata": {
        "id": "6qdwnSTKi3Ka"
      },
      "source": [
        "# setting up the required library"
      ]
    },
    {
      "cell_type": "code",
      "execution_count": 2,
      "metadata": {
        "colab": {
          "base_uri": "https://localhost:8080/"
        },
        "id": "-yRIS5IsD-bI",
        "outputId": "ee968e98-ce61-40aa-ff60-5d5a7d0b1e9c"
      },
      "outputs": [
        {
          "name": "stdout",
          "output_type": "stream",
          "text": [
            "Requirement already satisfied: scipy in /usr/local/lib/python3.10/dist-packages (1.11.4)\n",
            "Requirement already satisfied: numpy<1.28.0,>=1.21.6 in /usr/local/lib/python3.10/dist-packages (from scipy) (1.25.2)\n"
          ]
        }
      ],
      "source": [
        "pip install scipy\n"
      ]
    },
    {
      "cell_type": "code",
      "execution_count": 3,
      "metadata": {
        "colab": {
          "base_uri": "https://localhost:8080/"
        },
        "id": "oXvf6KxOZdOb",
        "outputId": "64b19bf3-1110-4fcf-fa11-a6f585de0908"
      },
      "outputs": [
        {
          "name": "stdout",
          "output_type": "stream",
          "text": [
            "Collecting pyedflib\n",
            "  Downloading pyEDFlib-0.1.37-cp310-cp310-manylinux_2_17_x86_64.manylinux2014_x86_64.whl (2.7 MB)\n",
            "\u001b[2K     \u001b[90m━━━━━━━━━━━━━━━━━━━━━━━━━━━━━━━━━━━━━━━━\u001b[0m \u001b[32m2.7/2.7 MB\u001b[0m \u001b[31m9.1 MB/s\u001b[0m eta \u001b[36m0:00:00\u001b[0m\n",
            "\u001b[?25hCollecting mne\n",
            "  Downloading mne-1.7.1-py3-none-any.whl (7.4 MB)\n",
            "\u001b[2K     \u001b[90m━━━━━━━━━━━━━━━━━━━━━━━━━━━━━━━━━━━━━━━━\u001b[0m \u001b[32m7.4/7.4 MB\u001b[0m \u001b[31m19.2 MB/s\u001b[0m eta \u001b[36m0:00:00\u001b[0m\n",
            "\u001b[?25hRequirement already satisfied: numpy>=1.9.1 in /usr/local/lib/python3.10/dist-packages (from pyedflib) (1.25.2)\n",
            "Requirement already satisfied: decorator in /usr/local/lib/python3.10/dist-packages (from mne) (4.4.2)\n",
            "Requirement already satisfied: jinja2 in /usr/local/lib/python3.10/dist-packages (from mne) (3.1.4)\n",
            "Requirement already satisfied: lazy-loader>=0.3 in /usr/local/lib/python3.10/dist-packages (from mne) (0.4)\n",
            "Requirement already satisfied: matplotlib>=3.5.0 in /usr/local/lib/python3.10/dist-packages (from mne) (3.7.1)\n",
            "Requirement already satisfied: packaging in /usr/local/lib/python3.10/dist-packages (from mne) (24.1)\n",
            "Requirement already satisfied: pooch>=1.5 in /usr/local/lib/python3.10/dist-packages (from mne) (1.8.2)\n",
            "Requirement already satisfied: scipy>=1.7.1 in /usr/local/lib/python3.10/dist-packages (from mne) (1.11.4)\n",
            "Requirement already satisfied: tqdm in /usr/local/lib/python3.10/dist-packages (from mne) (4.66.4)\n",
            "Requirement already satisfied: contourpy>=1.0.1 in /usr/local/lib/python3.10/dist-packages (from matplotlib>=3.5.0->mne) (1.2.1)\n",
            "Requirement already satisfied: cycler>=0.10 in /usr/local/lib/python3.10/dist-packages (from matplotlib>=3.5.0->mne) (0.12.1)\n",
            "Requirement already satisfied: fonttools>=4.22.0 in /usr/local/lib/python3.10/dist-packages (from matplotlib>=3.5.0->mne) (4.53.1)\n",
            "Requirement already satisfied: kiwisolver>=1.0.1 in /usr/local/lib/python3.10/dist-packages (from matplotlib>=3.5.0->mne) (1.4.5)\n",
            "Requirement already satisfied: pillow>=6.2.0 in /usr/local/lib/python3.10/dist-packages (from matplotlib>=3.5.0->mne) (9.4.0)\n",
            "Requirement already satisfied: pyparsing>=2.3.1 in /usr/local/lib/python3.10/dist-packages (from matplotlib>=3.5.0->mne) (3.1.2)\n",
            "Requirement already satisfied: python-dateutil>=2.7 in /usr/local/lib/python3.10/dist-packages (from matplotlib>=3.5.0->mne) (2.8.2)\n",
            "Requirement already satisfied: platformdirs>=2.5.0 in /usr/local/lib/python3.10/dist-packages (from pooch>=1.5->mne) (4.2.2)\n",
            "Requirement already satisfied: requests>=2.19.0 in /usr/local/lib/python3.10/dist-packages (from pooch>=1.5->mne) (2.31.0)\n",
            "Requirement already satisfied: MarkupSafe>=2.0 in /usr/local/lib/python3.10/dist-packages (from jinja2->mne) (2.1.5)\n",
            "Requirement already satisfied: six>=1.5 in /usr/local/lib/python3.10/dist-packages (from python-dateutil>=2.7->matplotlib>=3.5.0->mne) (1.16.0)\n",
            "Requirement already satisfied: charset-normalizer<4,>=2 in /usr/local/lib/python3.10/dist-packages (from requests>=2.19.0->pooch>=1.5->mne) (3.3.2)\n",
            "Requirement already satisfied: idna<4,>=2.5 in /usr/local/lib/python3.10/dist-packages (from requests>=2.19.0->pooch>=1.5->mne) (3.7)\n",
            "Requirement already satisfied: urllib3<3,>=1.21.1 in /usr/local/lib/python3.10/dist-packages (from requests>=2.19.0->pooch>=1.5->mne) (2.0.7)\n",
            "Requirement already satisfied: certifi>=2017.4.17 in /usr/local/lib/python3.10/dist-packages (from requests>=2.19.0->pooch>=1.5->mne) (2024.7.4)\n",
            "Installing collected packages: pyedflib, mne\n",
            "Successfully installed mne-1.7.1 pyedflib-0.1.37\n"
          ]
        }
      ],
      "source": [
        "pip install pyedflib mne\n"
      ]
    },
    {
      "cell_type": "code",
      "execution_count": 4,
      "metadata": {
        "colab": {
          "base_uri": "https://localhost:8080/"
        },
        "id": "n1tQIyOOZdOe",
        "outputId": "f2b64378-4337-4473-8f03-de3d7eab0109"
      },
      "outputs": [
        {
          "name": "stdout",
          "output_type": "stream",
          "text": [
            "Requirement already satisfied: PyWavelets in /usr/local/lib/python3.10/dist-packages (1.6.0)\n",
            "Requirement already satisfied: numpy<3,>=1.22.4 in /usr/local/lib/python3.10/dist-packages (from PyWavelets) (1.25.2)\n"
          ]
        }
      ],
      "source": [
        "\n",
        "pip install PyWavelets\n"
      ]
    },
    {
      "cell_type": "markdown",
      "metadata": {
        "id": "Jfuh19F4jWVd"
      },
      "source": [
        "mount Google Drive to Colab environment"
      ]
    },
    {
      "cell_type": "code",
      "execution_count": 5,
      "metadata": {
        "colab": {
          "base_uri": "https://localhost:8080/"
        },
        "id": "Hr4g49HcWa3a",
        "outputId": "080359fc-295b-4dbc-b144-2feb499a8040"
      },
      "outputs": [
        {
          "name": "stdout",
          "output_type": "stream",
          "text": [
            "Requirement already satisfied: torch in /usr/local/lib/python3.10/dist-packages (2.3.1+cu121)\n",
            "Requirement already satisfied: torchvision in /usr/local/lib/python3.10/dist-packages (0.18.1+cu121)\n",
            "Requirement already satisfied: filelock in /usr/local/lib/python3.10/dist-packages (from torch) (3.15.4)\n",
            "Requirement already satisfied: typing-extensions>=4.8.0 in /usr/local/lib/python3.10/dist-packages (from torch) (4.12.2)\n",
            "Requirement already satisfied: sympy in /usr/local/lib/python3.10/dist-packages (from torch) (1.13.0)\n",
            "Requirement already satisfied: networkx in /usr/local/lib/python3.10/dist-packages (from torch) (3.3)\n",
            "Requirement already satisfied: jinja2 in /usr/local/lib/python3.10/dist-packages (from torch) (3.1.4)\n",
            "Requirement already satisfied: fsspec in /usr/local/lib/python3.10/dist-packages (from torch) (2023.6.0)\n",
            "Collecting nvidia-cuda-nvrtc-cu12==12.1.105 (from torch)\n",
            "  Using cached nvidia_cuda_nvrtc_cu12-12.1.105-py3-none-manylinux1_x86_64.whl (23.7 MB)\n",
            "Collecting nvidia-cuda-runtime-cu12==12.1.105 (from torch)\n",
            "  Using cached nvidia_cuda_runtime_cu12-12.1.105-py3-none-manylinux1_x86_64.whl (823 kB)\n",
            "Collecting nvidia-cuda-cupti-cu12==12.1.105 (from torch)\n",
            "  Using cached nvidia_cuda_cupti_cu12-12.1.105-py3-none-manylinux1_x86_64.whl (14.1 MB)\n",
            "Collecting nvidia-cudnn-cu12==8.9.2.26 (from torch)\n",
            "  Using cached nvidia_cudnn_cu12-8.9.2.26-py3-none-manylinux1_x86_64.whl (731.7 MB)\n",
            "Collecting nvidia-cublas-cu12==12.1.3.1 (from torch)\n",
            "  Using cached nvidia_cublas_cu12-12.1.3.1-py3-none-manylinux1_x86_64.whl (410.6 MB)\n",
            "Collecting nvidia-cufft-cu12==11.0.2.54 (from torch)\n",
            "  Using cached nvidia_cufft_cu12-11.0.2.54-py3-none-manylinux1_x86_64.whl (121.6 MB)\n",
            "Collecting nvidia-curand-cu12==10.3.2.106 (from torch)\n",
            "  Using cached nvidia_curand_cu12-10.3.2.106-py3-none-manylinux1_x86_64.whl (56.5 MB)\n",
            "Collecting nvidia-cusolver-cu12==11.4.5.107 (from torch)\n",
            "  Using cached nvidia_cusolver_cu12-11.4.5.107-py3-none-manylinux1_x86_64.whl (124.2 MB)\n",
            "Collecting nvidia-cusparse-cu12==12.1.0.106 (from torch)\n",
            "  Using cached nvidia_cusparse_cu12-12.1.0.106-py3-none-manylinux1_x86_64.whl (196.0 MB)\n",
            "Collecting nvidia-nccl-cu12==2.20.5 (from torch)\n",
            "  Using cached nvidia_nccl_cu12-2.20.5-py3-none-manylinux2014_x86_64.whl (176.2 MB)\n",
            "Collecting nvidia-nvtx-cu12==12.1.105 (from torch)\n",
            "  Using cached nvidia_nvtx_cu12-12.1.105-py3-none-manylinux1_x86_64.whl (99 kB)\n",
            "Requirement already satisfied: triton==2.3.1 in /usr/local/lib/python3.10/dist-packages (from torch) (2.3.1)\n",
            "Collecting nvidia-nvjitlink-cu12 (from nvidia-cusolver-cu12==11.4.5.107->torch)\n",
            "  Downloading nvidia_nvjitlink_cu12-12.5.82-py3-none-manylinux2014_x86_64.whl (21.3 MB)\n",
            "\u001b[2K     \u001b[90m━━━━━━━━━━━━━━━━━━━━━━━━━━━━━━━━━━━━━━━━\u001b[0m \u001b[32m21.3/21.3 MB\u001b[0m \u001b[31m20.6 MB/s\u001b[0m eta \u001b[36m0:00:00\u001b[0m\n",
            "\u001b[?25hRequirement already satisfied: numpy in /usr/local/lib/python3.10/dist-packages (from torchvision) (1.25.2)\n",
            "Requirement already satisfied: pillow!=8.3.*,>=5.3.0 in /usr/local/lib/python3.10/dist-packages (from torchvision) (9.4.0)\n",
            "Requirement already satisfied: MarkupSafe>=2.0 in /usr/local/lib/python3.10/dist-packages (from jinja2->torch) (2.1.5)\n",
            "Requirement already satisfied: mpmath<1.4,>=1.1.0 in /usr/local/lib/python3.10/dist-packages (from sympy->torch) (1.3.0)\n",
            "Installing collected packages: nvidia-nvtx-cu12, nvidia-nvjitlink-cu12, nvidia-nccl-cu12, nvidia-curand-cu12, nvidia-cufft-cu12, nvidia-cuda-runtime-cu12, nvidia-cuda-nvrtc-cu12, nvidia-cuda-cupti-cu12, nvidia-cublas-cu12, nvidia-cusparse-cu12, nvidia-cudnn-cu12, nvidia-cusolver-cu12\n",
            "Successfully installed nvidia-cublas-cu12-12.1.3.1 nvidia-cuda-cupti-cu12-12.1.105 nvidia-cuda-nvrtc-cu12-12.1.105 nvidia-cuda-runtime-cu12-12.1.105 nvidia-cudnn-cu12-8.9.2.26 nvidia-cufft-cu12-11.0.2.54 nvidia-curand-cu12-10.3.2.106 nvidia-cusolver-cu12-11.4.5.107 nvidia-cusparse-cu12-12.1.0.106 nvidia-nccl-cu12-2.20.5 nvidia-nvjitlink-cu12-12.5.82 nvidia-nvtx-cu12-12.1.105\n"
          ]
        }
      ],
      "source": [
        "!pip install  torch torchvision\n"
      ]
    },
    {
      "cell_type": "code",
      "execution_count": 6,
      "metadata": {
        "colab": {
          "base_uri": "https://localhost:8080/"
        },
        "id": "rWALZvWSptyO",
        "outputId": "3def8410-7751-4ffb-fc65-af5f66eed5f4"
      },
      "outputs": [
        {
          "name": "stdout",
          "output_type": "stream",
          "text": [
            "Requirement already satisfied: tqdm in /usr/local/lib/python3.10/dist-packages (4.66.4)\n"
          ]
        }
      ],
      "source": [
        "pip install tqdm\n"
      ]
    },
    {
      "cell_type": "code",
      "execution_count": 7,
      "metadata": {
        "colab": {
          "base_uri": "https://localhost:8080/"
        },
        "id": "6ENKXFYBvYMC",
        "outputId": "61531a68-c090-4b71-89c4-4e1601adde1d"
      },
      "outputs": [
        {
          "name": "stdout",
          "output_type": "stream",
          "text": [
            "Mounted at /content/drive\n"
          ]
        }
      ],
      "source": [
        "from google.colab import drive\n",
        "drive.mount('/content/drive')"
      ]
    },
    {
      "cell_type": "code",
      "execution_count": 8,
      "metadata": {
        "id": "Qszjk_JIZdOj"
      },
      "outputs": [],
      "source": [
        "import os\n",
        "import numpy as np\n",
        "import pandas as pd\n",
        "import pywt\n",
        "import mne\n",
        "from sklearn.decomposition import PCA\n",
        "from mne.preprocessing import ICA\n",
        "import torch\n",
        "import torch.nn as nn\n",
        "import torch.nn.functional as F\n",
        "from torch.utils.data import DataLoader, TensorDataset\n",
        "from sklearn.preprocessing import StandardScaler\n",
        "import torchvision.models as models\n",
        "import torchvision.transforms as transforms\n",
        "import matplotlib.pyplot as plt\n",
        "import gc\n",
        "import xgboost as xgb\n",
        "from sklearn.metrics import accuracy_score, confusion_matrix, classification_report\n",
        "from tqdm import tqdm\n",
        "from tqdm import tqdm, tqdm_notebook"
      ]
    },
    {
      "cell_type": "markdown",
      "metadata": {
        "id": "mRfdzTwuZdOt"
      },
      "source": [
        "# pie chart for data"
      ]
    },
    {
      "cell_type": "code",
      "execution_count": 9,
      "metadata": {
        "colab": {
          "base_uri": "https://localhost:8080/",
          "height": 598
        },
        "id": "muW926dnZdOt",
        "outputId": "6671e739-16ee-43cd-bd71-586c80932ee8"
      },
      "outputs": [
        {
          "data": {
            "image/png": "[encoded data removed]",
            "text/plain": [
              "<Figure size 700x700 with 1 Axes>"
            ]
          },
          "metadata": {},
          "output_type": "display_data"
        }
      ],
      "source": [
        "\n",
        "\n",
        "# Data from the user\n",
        "data = {\n",
        "    \"chb01\": (\"F\", 11),\n",
        "    \"chb02\": (\"M\", 11),\n",
        "    \"chb03\": (\"F\", 14),\n",
        "    \"chb04\": (\"F\", 22),\n",
        "    \"chb05\": (\"F\", 7),\n",
        "    \"chb06\": (\"F\", 1.5),\n",
        "    \"chb07\": (\"F\", 14.5),\n",
        "    \"chb08\": (\"M\", 3.5),\n",
        "    \"chb09\": (\"F\", 10),\n",
        "    \"chb10\": (\"M\", 3),\n",
        "    \"chb11\": (\"F\", 12),\n",
        "    \"chb12\": (\"F\", 2),\n",
        "    \"chb13\": (\"F\", 3),\n",
        "    \"chb14\": (\"F\", 9),\n",
        "    \"chb15\": (\"F\", 16),\n",
        "    \"chb16\": (\"F\", 7),\n",
        "    \"chb17\": (\"F\", 12),\n",
        "    \"chb18\": (\"F\", 18),\n",
        "    \"chb19\": (\"F\", 19),\n",
        "    \"chb20\": (\"F\", 6),\n",
        "    \"chb21\": (\"F\", 13),\n",
        "    \"chb22\": (\"F\", 9),\n",
        "    \"chb23\": (\"M\", 6),\n",
        "    \"chb24_01\": (\"M\", 16),\n",
        "    \"chb24_02\": (\"M\", 16)\n",
        "}\n",
        "\n",
        "# Counting the number of male and female subjects\n",
        "gender_counts = {\"F\": 0, \"M\": 0}\n",
        "\n",
        "for gender, age in data.values():\n",
        "    gender_counts[gender] += 1\n",
        "\n",
        "# Data for the pie chart\n",
        "labels = gender_counts.keys()\n",
        "sizes = gender_counts.values()\n",
        "colors = ['#ff9999','#66b3ff']\n",
        "explode = (0.1, 0)  # explode the 1st slice (Female)\n",
        "\n",
        "# Plotting the pie chart\n",
        "plt.figure(figsize=(7, 7))\n",
        "plt.pie(sizes, explode=explode, labels=labels, colors=colors, autopct='%1.1f%%', shadow=True, startangle=140)\n",
        "plt.title('Gender Distribution in CHB-MIT Scalp EEG Database')\n",
        "plt.show()\n"
      ]
    },
    {
      "cell_type": "code",
      "execution_count": null,
      "metadata": {
        "id": "jCGSwVgBZdOu",
        "outputId": "029bd43a-a64c-4c42-f44c-d9643532625c"
      },
      "outputs": [
        {
          "data": {
            "image/png": "[encoded data removed]",
            "text/plain": [
              "<Figure size 1000x1000 with 1 Axes>"
            ]
          },
          "metadata": {},
          "output_type": "display_data"
        }
      ],
      "source": [
        "# Counting the number of subjects in different age ranges\n",
        "age_ranges = {\n",
        "    \"0-5\": 0,\n",
        "    \"6-10\": 0,\n",
        "    \"11-15\": 0,\n",
        "    \"16-20\": 0,\n",
        "    \"21-25\": 0\n",
        "}\n",
        "\n",
        "for gender, age in data.values():\n",
        "    if age <= 5:\n",
        "        age_ranges[\"0-5\"] += 1\n",
        "    elif age <= 10:\n",
        "        age_ranges[\"6-10\"] += 1\n",
        "    elif age <= 15:\n",
        "        age_ranges[\"11-15\"] += 1\n",
        "    elif age <= 20:\n",
        "        age_ranges[\"16-20\"] += 1\n",
        "    elif age <= 25:\n",
        "        age_ranges[\"21-25\"] += 1\n",
        "\n",
        "# Data for the pie chart\n",
        "labels = age_ranges.keys()\n",
        "sizes = age_ranges.values()\n",
        "colors = ['#ff9999','#66b3ff','#99ff99','#ffcc99','#c2c2f0']\n",
        "explode = (0.1, 0, 0, 0, 0)  # explode the 1st slice (0-5)\n",
        "\n",
        "# Plotting the pie chart\n",
        "plt.figure(figsize=(10, 10))\n",
        "plt.pie(sizes, explode=explode, labels=labels, colors=colors, autopct='%1.1f%%', shadow=True, startangle=140)\n",
        "plt.title('Age Distribution in CHB-MIT Scalp EEG Database')\n",
        "plt.show()"
      ]
    },
    {
      "cell_type": "markdown",
      "metadata": {
        "id": "9kkrDtuQuRk1"
      },
      "source": [
        "# reducing size without loosing importanyt information\n",
        "CNN Model Modification:\n",
        "Intermediate Layer Outputs: Extract features from an intermediate layer of a CNN that has fewer channels."
      ]
    },
    {
      "cell_type": "markdown",
      "metadata": {
        "id": "4getLkYtuWWH"
      },
      "source": [
        "# 16 feauture\n",
        "Reducing the output feature size from 64 to 16 in a CNN model impacts the model training and performance in several ways:\n",
        "\n",
        "1. **Model Complexity and Training Time:**\n",
        "   - **Reduced Complexity:** A smaller feature size results in a simpler model with fewer parameters. This can lead to faster training times since the model has less data to process in the subsequent layers.\n",
        "   - **Reduced Training Time:** With fewer features, each epoch of training will take less time, and the model might converge more quickly.\n",
        "\n",
        "2. **Generalization:**\n",
        "   - **Improved Generalization:** A simpler model with fewer parameters is less prone to overfitting, especially if the dataset is small or noisy. By reducing the number of features, the model might generalize better to unseen data.\n",
        "   - **Risk of Underfitting:** However, there's a risk that the reduced feature set may not capture all the relevant information from the data, leading to underfitting, where the model fails to learn the underlying patterns effectively.\n",
        "\n",
        "3. **Performance:**\n",
        "   - **Potential Loss of Information:** Reducing the feature size can result in the loss of important information that was previously captured by the additional features. This might negatively impact the model's performance, particularly if the original 64 features included critical details about the data.\n",
        "   - **Improved Performance:** If the original 64 features included redundant or irrelevant information, reducing the feature size can lead to a more focused and efficient model, potentially improving performance.\n",
        "\n",
        "4. **Memory Usage:**\n",
        "   - **Reduced Memory Usage:** A smaller feature size reduces the memory footprint during both training and inference, which is beneficial when working with large datasets or deploying models on resource-constrained devices.\n",
        "\n",
        "5. **Feature Interpretability:**\n",
        "   - **Easier Interpretation:** With fewer features, it may be easier to interpret and understand the model's decisions, especially in applications where feature importance and interpretability are crucial.\n",
        "\n",
        "In summary, reducing the output feature size to 16 can lead to a simpler and faster model with better generalization properties."
      ]
    },
    {
      "cell_type": "markdown",
      "metadata": {
        "id": "X5FSCZFFW788"
      },
      "source": [
        "#  Define the path + output directory"
      ]
    },
    {
      "cell_type": "code",
      "execution_count": 13,
      "metadata": {
        "id": "E14QZlEqzzk1"
      },
      "outputs": [],
      "source": [
        "\n",
        "# path to the files\n",
        "edf_dir_path = '/content/drive/MyDrive/Epileptic_Seizure_Classification_Project/Dataset/chb-mit-scalp-eeg-database-1.0.0/chb08'\n",
        "output_dir_path = '/content/drive/MyDrive/Epileptic_Seizure_Classification_Project/cnn_Extracted_Features_/chb08'\n",
        "\n",
        "os.makedirs(output_dir_path, exist_ok=True)\n",
        "\n",
        "# List all EDF files\n",
        "edf_files = [f for f in sorted(os.listdir(edf_dir_path)) if f.endswith('.edf') and f in ['chb08_02.edf','chb08_04.edf','chb08_05.edf','chb08_10.edf','chb08_11.edf','chb08_12.edf','chb08_13.edf','chb08_18.edf','chb08_21.edf']]\n"
      ]
    },
    {
      "cell_type": "markdown",
      "metadata": {
        "id": "C1BfO76fpgiw"
      },
      "source": [
        "**Modified** Convolutional Neural Network Architecture for EEG Signal Classification"
      ]
    },
    {
      "cell_type": "markdown",
      "metadata": {
        "id": "WCysbUOGqr3T"
      },
      "source": [
        "Here's a detailed description of the `ModifiedCNN` model:\n",
        "\n",
        "### Layers and Their Functions\n",
        "\n",
        "1. **Convolutional Layer 1 (`conv1`):**\n",
        "   - **Input Shape:** `(batch_size, 1, 23)`\n",
        "   - **Operation:** Applies 16 filters of size 3 with stride 1 and padding 1.\n",
        "   - **Output Shape:** `(batch_size, 16, 23)`\n",
        "\n",
        "2. **Max Pooling Layer 1 (`pool`):**\n",
        "   - **Operation:** Applies a max-pooling operation with a kernel size of 2 and stride of 2.\n",
        "   - **Output Shape:** `(batch_size, 16, 11)`\n",
        "\n",
        "3. **Convolutional Layer 2 (`conv2`):**\n",
        "   - **Input Shape:** `(batch_size, 16, 11)`\n",
        "   - **Operation:** Applies 32 filters of size 3 with stride 1 and padding 1.\n",
        "   - **Output Shape:** `(batch_size, 32, 11)`\n",
        "\n",
        "4. **Max Pooling Layer 2 (`pool`):**\n",
        "   - **Operation:** Applies a max-pooling operation with a kernel size of 2 and stride of 2.\n",
        "   - **Output Shape:** `(batch_size, 32, 5)`\n",
        "\n",
        "5. **Convolutional Layer 3 (`conv3`):**\n",
        "   - **Input Shape:** `(batch_size, 32, 5)`\n",
        "   - **Operation:** Applies 16 filters of size 3 with stride 1 and padding 1.\n",
        "   - **Output Shape:** `(batch_size, 16, 5)`\n",
        "\n",
        "6. **Max Pooling Layer 3 (`pool`):**\n",
        "   - **Operation:** Applies a max-pooling operation with a kernel size of 2 and stride of 2.\n",
        "   - **Output Shape:** `(batch_size, 16, 2)`\n",
        "\n",
        "7. **Flatten Layer:**\n",
        "   - **Operation:** Flattens the tensor to a shape suitable for fully connected layers.\n",
        "   - **Output Shape:** `(batch_size, 32)` (since `16 * 2 = 32`)\n",
        "\n",
        "8. **Fully Connected Layer 1 (`fc1`):**\n",
        "   - **Input Shape:** `(batch_size, 32)`\n",
        "   - **Operation:** Applies a linear transformation to produce 128 features.\n",
        "   - **Output Shape:** `(batch_size, 128)`\n",
        "\n",
        "9. **Fully Connected Layer 2 (`fc2`):**\n",
        "   - **Input Shape:** `(batch_size, 128)`\n",
        "   - **Operation:** Applies a linear transformation to produce 16 features.\n",
        "   - **Output Shape:** `(batch_size, 16)`\n"
      ]
    },
    {
      "cell_type": "code",
      "execution_count": 14,
      "metadata": {
        "id": "clXyrvWtXE40"
      },
      "outputs": [],
      "source": [
        "import torch\n",
        "import torch.nn as nn\n",
        "import torch.nn.functional as F\n",
        "\n",
        "# Initialize ICA and PCA parameters\n",
        "ica = ICA(n_components=23, random_state=97, max_iter=400)\n",
        "pca = PCA(n_components=16)\n",
        "\n",
        "device = torch.device(\"cuda\" if torch.cuda.is_available() else \"cpu\")\n",
        "\n",
        "class ModifiedCNN(nn.Module):\n",
        "    def __init__(self):\n",
        "        super(ModifiedCNN, self).__init__()\n",
        "        self.conv1 = nn.Conv1d(in_channels=1, out_channels=16, kernel_size=3, stride=1, padding=1)\n",
        "        self.pool = nn.MaxPool1d(kernel_size=2, stride=2, padding=0)\n",
        "        self.conv2 = nn.Conv1d(in_channels=16, out_channels=32, kernel_size=3, stride=1, padding=1)\n",
        "        self.conv3 = nn.Conv1d(in_channels=32, out_channels=16, kernel_size=3, stride=1, padding=1)  # Additional conv layer\n",
        "        self.fc1 = nn.Linear(16 * (23 // 2 // 2 // 2), 128)  # Adjust input size\n",
        "        self.fc2 = nn.Linear(128, 16)  # Adjust output size to 16\n",
        "\n",
        "    def forward(self, x):\n",
        "        x = self.pool(F.relu(self.conv1(x)))\n",
        "        x = self.pool(F.relu(self.conv2(x)))\n",
        "        x = self.pool(F.relu(self.conv3(x)))  # Additional conv layer\n",
        "        x = x.view(x.size(0), -1)  # Flatten the tensor\n",
        "        x = F.relu(self.fc1(x))\n",
        "        x = self.fc2(x)\n",
        "        return x\n",
        "\n",
        "cnn_model = ModifiedCNN().to(device)\n"
      ]
    },
    {
      "cell_type": "markdown",
      "metadata": {
        "id": "iQnHOanlpnTb"
      },
      "source": [
        "# List of files known to have seizures"
      ]
    },
    {
      "cell_type": "code",
      "execution_count": 15,
      "metadata": {
        "id": "VDl66OF3XI7U"
      },
      "outputs": [],
      "source": [
        "\n",
        "\n",
        "seizure_files = [\n",
        "    'chb01/chb01_03.edf', 'chb01/chb01_04.edf', 'chb01/chb01_15.edf', 'chb01/chb01_16.edf',\n",
        "    'chb01/chb01_18.edf', 'chb01/chb01_21.edf', 'chb01/chb01_26.edf', 'chb02/chb02_16.edf',\n",
        "    'chb02/chb02_16+.edf', 'chb02/chb02_19.edf', 'chb03/chb03_01.edf', 'chb03/chb03_02.edf',\n",
        "    'chb03/chb03_03.edf', 'chb03/chb03_04.edf', 'chb03/chb03_34.edf', 'chb03/chb03_35.edf',\n",
        "    'chb03/chb03_36.edf', 'chb04/chb04_05.edf', 'chb04/chb04_08.edf', 'chb04/chb04_28.edf',\n",
        "    'chb05/chb05_06.edf', 'chb05/chb05_13.edf', 'chb05/chb05_16.edf', 'chb05/chb05_17.edf',\n",
        "    'chb05/chb05_22.edf', 'chb06/chb06_01.edf', 'chb06/chb06_04.edf', 'chb06/chb06_09.edf',\n",
        "    'chb06/chb06_10.edf', 'chb06/chb06_13.edf', 'chb06/chb06_18.edf', 'chb06/chb06_24.edf',\n",
        "    'chb07/chb07_12.edf', 'chb07/chb07_13.edf', 'chb07/chb07_18.edf', 'chb08/chb08_02.edf',\n",
        "    'chb08/chb08_05.edf', 'chb08/chb08_11.edf', 'chb08/chb08_13.edf', 'chb08/chb08_21.edf',\n",
        "    'chb09/chb09_06.edf', 'chb09/chb09_08.edf', 'chb09/chb09_19.edf', 'chb10/chb10_12.edf',\n",
        "    'chb10/chb10_20.edf', 'chb10/chb10_27.edf', 'chb10/chb10_30.edf', 'chb10/chb10_31.edf',\n",
        "    'chb10/chb10_38.edf', 'chb10/chb10_89.edf', 'chb11/chb11_82.edf', 'chb11/chb11_92.edf',\n",
        "    'chb11/chb11_99.edf', 'chb12/chb12_06.edf', 'chb12/chb12_08.edf', 'chb12/chb12_09.edf',\n",
        "    'chb12/chb12_10.edf', 'chb12/chb12_11.edf', 'chb12/chb12_23.edf', 'chb12/chb12_27.edf',\n",
        "    'chb12/chb12_28.edf', 'chb12/chb12_29.edf', 'chb12/chb12_33.edf', 'chb12/chb12_36.edf',\n",
        "    'chb12/chb12_38.edf', 'chb12/chb12_42.edf', 'chb13/chb13_19.edf', 'chb13/chb13_21.edf',\n",
        "    'chb13/chb13_40.edf', 'chb13/chb13_55.edf', 'chb13/chb13_58.edf', 'chb13/chb13_59.edf',\n",
        "    'chb13/chb13_60.edf', 'chb13/chb13_62.edf', 'chb14/chb14_03.edf', 'chb14/chb14_04.edf',\n",
        "    'chb14/chb14_06.edf', 'chb14/chb14_11.edf', 'chb14/chb14_17.edf', 'chb14/chb14_18.edf',\n",
        "    'chb14/chb14_27.edf', 'chb15/chb15_06.edf', 'chb15/chb15_10.edf', 'chb15/chb15_15.edf',\n",
        "    'chb15/chb15_17.edf', 'chb15/chb15_20.edf', 'chb15/chb15_22.edf', 'chb15/chb15_28.edf',\n",
        "    'chb15/chb15_31.edf', 'chb15/chb15_40.edf', 'chb15/chb15_46.edf', 'chb15/chb15_49.edf',\n",
        "    'chb15/chb15_52.edf', 'chb15/chb15_54.edf', 'chb15/chb15_62.edf', 'chb16/chb16_10.edf',\n",
        "    'chb16/chb16_11.edf', 'chb16/chb16_14.edf', 'chb16/chb16_16.edf', 'chb16/chb16_17.edf',\n",
        "    'chb16/chb16_18.edf', 'chb17/chb17a_03.edf', 'chb17/chb17a_04.edf', 'chb17/chb17b_63.edf',\n",
        "    'chb18/chb18_29.edf', 'chb18/chb18_30.edf', 'chb18/chb18_31.edf', 'chb18/chb18_32.edf',\n",
        "    'chb18/chb18_35.edf', 'chb18/chb18_36.edf', 'chb19/chb19_28.edf', 'chb19/chb19_29.edf',\n",
        "    'chb19/chb19_30.edf', 'chb20/chb20_12.edf', 'chb20/chb20_13.edf', 'chb20/chb20_14.edf',\n",
        "    'chb20/chb20_15.edf', 'chb20/chb20_16.edf', 'chb20/chb20_68.edf', 'chb21/chb21_19.edf',\n",
        "    'chb21/chb21_20.edf', 'chb21/chb21_21.edf', 'chb21/chb21_22.edf', 'chb22/chb22_20.edf',\n",
        "    'chb22/chb22_25.edf', 'chb22/chb22_38.edf', 'chb23/chb23_06.edf', 'chb23/chb23_08.edf',\n",
        "    'chb23/chb23_09.edf', 'chb24/chb24_01.edf', 'chb24/chb24_03.edf', 'chb24/chb24_04.edf',\n",
        "    'chb24/chb24_06.edf', 'chb24/chb24_07.edf', 'chb24/chb24_09.edf', 'chb24/chb24_11.edf',\n",
        "    'chb24/chb24_13.edf', 'chb24/chb24_14.edf', 'chb24/chb24_15.edf', 'chb24/chb24_17.edf',\n",
        "    'chb24/chb24_21.edf'\n",
        "]\n",
        "\n",
        "# Function to check if a file contains seizures\n",
        "def has_seizure(edf_file):\n",
        "    return edf_file in seizure_files"
      ]
    },
    {
      "cell_type": "markdown",
      "metadata": {
        "id": "Cxrb6SMGlMts"
      },
      "source": [
        "# Normalization\n",
        " can have a significant impact on the accuracy of your machine learning models, especially when using techniques like PCA and CNNs. By normalizing the data, you ensure that each feature contributes equally to the analysis, preventing features with larger scales from dominating the results.\n",
        " # Quantization: The features are quantized to 32-bit integers,"
      ]
    },
    {
      "cell_type": "markdown",
      "metadata": {
        "id": "yIy84C5Xrznh"
      },
      "source": [
        "The use of PCA both before and after the CNN in the processing pipeline serves distinct purposes at each stage, enhancing the effectiveness of the feature extraction and dimensionality reduction processes.\n",
        "\n",
        "### PCA Before CNN\n",
        "\n",
        "1. **Dimensionality Reduction**: EEG signals, after being transformed by CWT, can result in a very high-dimensional dataset. PCA is applied to reduce the number of features while retaining the most important information. This makes the data more manageable for the CNN, reducing the computational burden and memory requirements.\n",
        "   \n",
        "2. **Noise Reduction**: PCA help in filtering out noise by focusing on the principal components that capture the most variance in the data.\n",
        "\n",
        "3. **Improved Training Efficiency**: By reducing the input dimensionality, PCA helps in speeding up the training\n",
        "\n",
        "### PCA After CNN\n",
        "\n",
        "1. **Feature Compaction**: After the CNN extracts features from the input data, the resulting feature set might still be high-dimensional. Applying PCA at this stage further compacts these features.\n",
        "\n",
        "2. **Removing Redundancies**: CNNs can sometimes produce redundant features. PCA helps in eliminating such redundancies by retaining only the components that capture the most variance.\n",
        "\n",
        "3. **Facilitating Further Analysis**: The final, reduced-dimensional feature set produced by PCA is more suitable for subsequent analysis, visualization, and modeling. It ensures that the most important features are retained.\n"
      ]
    },
    {
      "cell_type": "code",
      "execution_count": null,
      "metadata": {
        "colab": {
          "base_uri": "https://localhost:8080/"
        },
        "id": "XxNnng3clS9e",
        "outputId": "f8ee5582-0441-4974-d5e8-edb7eb145796"
      },
      "outputs": [
        {
          "name": "stdout",
          "output_type": "stream",
          "text": [
            "Extracting EDF parameters from /content/drive/MyDrive/Epileptic_Seizure_Classification_Project/Dataset/chb-mit-scalp-eeg-database-1.0.0/chb08/chb08_02.edf...\n",
            "EDF file detected\n",
            "Setting channel info structure...\n",
            "Creating raw.info structure...\n",
            "Reading 0 ... 921599  =      0.000 ...  3599.996 secs...\n"
          ]
        },
        {
          "name": "stderr",
          "output_type": "stream",
          "text": [
            "<ipython-input-16-0be77fa5ad3f>:8: RuntimeWarning: Channel names are not unique, found duplicates for: {'T8-P8'}. Applying running numbers for duplicates.\n",
            "  raw = mne.io.read_raw_edf(edf_file_path, preload=True)\n"
          ]
        },
        {
          "name": "stdout",
          "output_type": "stream",
          "text": [
            "Creating RawArray with float64 data, n_channels=23, n_times=92160\n",
            "    Range : 0 ... 92159 =      0.000 ...   359.996 secs\n",
            "Ready.\n",
            "Filtering raw data in 1 contiguous segment\n",
            "Setting up band-pass filter from 1 - 50 Hz\n",
            "\n",
            "FIR filter parameters\n",
            "---------------------\n",
            "Designing a one-pass, zero-phase, non-causal bandpass filter:\n",
            "- Windowed time-domain design (firwin) method\n",
            "- Hamming window with 0.0194 passband ripple and 53 dB stopband attenuation\n",
            "- Lower passband edge: 1.00\n",
            "- Lower transition bandwidth: 1.00 Hz (-6 dB cutoff frequency: 0.50 Hz)\n",
            "- Upper passband edge: 50.00 Hz\n",
            "- Upper transition bandwidth: 12.50 Hz (-6 dB cutoff frequency: 56.25 Hz)\n",
            "- Filter length: 845 samples (3.301 s)\n",
            "\n"
          ]
        },
        {
          "name": "stderr",
          "output_type": "stream",
          "text": [
            "[Parallel(n_jobs=1)]: Done  17 tasks      | elapsed:    0.2s\n"
          ]
        },
        {
          "name": "stdout",
          "output_type": "stream",
          "text": [
            "Fitting ICA to data using 23 channels (please be patient, this may take a while)\n",
            "Selecting by number: 23 components\n",
            "Fitting ICA took 12.8s.\n"
          ]
        },
        {
          "name": "stderr",
          "output_type": "stream",
          "text": [
            "<ipython-input-16-0be77fa5ad3f>:58: RuntimeWarning: Using n_components=23 (resulting in n_components_=23) may lead to an unstable mixing matrix estimation because the ratio between the largest (4.9) and smallest (1.2e-31) variances is too large (> 1e6); consider setting n_components=0.999999 or an integer <= 21\n",
            "  ica.fit(raw_epoch)\n"
          ]
        },
        {
          "name": "stdout",
          "output_type": "stream",
          "text": [
            "File chb08_02.edf - Epoch 1/10: Explained variance ratio by first 20 components: [0.07174517 0.0488586  0.04615519 0.04226756 0.03893512 0.03467034\n",
            " 0.02909116 0.02554482 0.02477768 0.02428774 0.02097045 0.02033443\n",
            " 0.01983314 0.01741438 0.01639544 0.01602361]\n",
            "Creating RawArray with float64 data, n_channels=23, n_times=92160\n",
            "    Range : 0 ... 92159 =      0.000 ...   359.996 secs\n",
            "Ready.\n",
            "Filtering raw data in 1 contiguous segment\n",
            "Setting up band-pass filter from 1 - 50 Hz\n",
            "\n",
            "FIR filter parameters\n",
            "---------------------\n",
            "Designing a one-pass, zero-phase, non-causal bandpass filter:\n",
            "- Windowed time-domain design (firwin) method\n",
            "- Hamming window with 0.0194 passband ripple and 53 dB stopband attenuation\n",
            "- Lower passband edge: 1.00\n",
            "- Lower transition bandwidth: 1.00 Hz (-6 dB cutoff frequency: 0.50 Hz)\n",
            "- Upper passband edge: 50.00 Hz\n",
            "- Upper transition bandwidth: 12.50 Hz (-6 dB cutoff frequency: 56.25 Hz)\n",
            "- Filter length: 845 samples (3.301 s)\n",
            "\n"
          ]
        },
        {
          "name": "stderr",
          "output_type": "stream",
          "text": [
            "[Parallel(n_jobs=1)]: Done  17 tasks      | elapsed:    0.1s\n"
          ]
        },
        {
          "name": "stdout",
          "output_type": "stream",
          "text": [
            "Fitting ICA to data using 23 channels (please be patient, this may take a while)\n",
            "Selecting by number: 23 components\n",
            "Fitting ICA took 6.0s.\n"
          ]
        },
        {
          "name": "stderr",
          "output_type": "stream",
          "text": [
            "<ipython-input-16-0be77fa5ad3f>:58: RuntimeWarning: Using n_components=23 (resulting in n_components_=23) may lead to an unstable mixing matrix estimation because the ratio between the largest (6) and smallest (2.6e-32) variances is too large (> 1e6); consider setting n_components=0.999999 or an integer <= 21\n",
            "  ica.fit(raw_epoch)\n"
          ]
        },
        {
          "name": "stdout",
          "output_type": "stream",
          "text": [
            "File chb08_02.edf - Epoch 2/10: Explained variance ratio by first 20 components: [0.08573123 0.06802391 0.04657226 0.04328689 0.0409691  0.03303167\n",
            " 0.02666186 0.02620047 0.02506332 0.024174   0.0219404  0.01961695\n",
            " 0.01779571 0.01727106 0.0165063  0.01473411]\n",
            "Creating RawArray with float64 data, n_channels=23, n_times=92160\n",
            "    Range : 0 ... 92159 =      0.000 ...   359.996 secs\n",
            "Ready.\n",
            "Filtering raw data in 1 contiguous segment\n",
            "Setting up band-pass filter from 1 - 50 Hz\n",
            "\n",
            "FIR filter parameters\n",
            "---------------------\n",
            "Designing a one-pass, zero-phase, non-causal bandpass filter:\n",
            "- Windowed time-domain design (firwin) method\n",
            "- Hamming window with 0.0194 passband ripple and 53 dB stopband attenuation\n",
            "- Lower passband edge: 1.00\n",
            "- Lower transition bandwidth: 1.00 Hz (-6 dB cutoff frequency: 0.50 Hz)\n",
            "- Upper passband edge: 50.00 Hz\n",
            "- Upper transition bandwidth: 12.50 Hz (-6 dB cutoff frequency: 56.25 Hz)\n",
            "- Filter length: 845 samples (3.301 s)\n",
            "\n"
          ]
        },
        {
          "name": "stderr",
          "output_type": "stream",
          "text": [
            "[Parallel(n_jobs=1)]: Done  17 tasks      | elapsed:    0.1s\n"
          ]
        },
        {
          "name": "stdout",
          "output_type": "stream",
          "text": [
            "Fitting ICA to data using 23 channels (please be patient, this may take a while)\n",
            "Selecting by number: 23 components\n",
            "Fitting ICA took 5.5s.\n"
          ]
        },
        {
          "name": "stderr",
          "output_type": "stream",
          "text": [
            "<ipython-input-16-0be77fa5ad3f>:58: RuntimeWarning: Using n_components=23 (resulting in n_components_=23) may lead to an unstable mixing matrix estimation because the ratio between the largest (8.2) and smallest (3.9e-32) variances is too large (> 1e6); consider setting n_components=0.999999 or an integer <= 21\n",
            "  ica.fit(raw_epoch)\n"
          ]
        },
        {
          "name": "stdout",
          "output_type": "stream",
          "text": [
            "File chb08_02.edf - Epoch 3/10: Explained variance ratio by first 20 components: [0.09854856 0.08104787 0.06823949 0.05162116 0.03629365 0.03354271\n",
            " 0.03080027 0.02748726 0.0227205  0.02013669 0.01927458 0.01849662\n",
            " 0.01718321 0.01656384 0.01484664 0.01468285]\n",
            "Creating RawArray with float64 data, n_channels=23, n_times=92160\n",
            "    Range : 0 ... 92159 =      0.000 ...   359.996 secs\n",
            "Ready.\n",
            "Filtering raw data in 1 contiguous segment\n",
            "Setting up band-pass filter from 1 - 50 Hz\n",
            "\n",
            "FIR filter parameters\n",
            "---------------------\n",
            "Designing a one-pass, zero-phase, non-causal bandpass filter:\n",
            "- Windowed time-domain design (firwin) method\n",
            "- Hamming window with 0.0194 passband ripple and 53 dB stopband attenuation\n",
            "- Lower passband edge: 1.00\n",
            "- Lower transition bandwidth: 1.00 Hz (-6 dB cutoff frequency: 0.50 Hz)\n",
            "- Upper passband edge: 50.00 Hz\n",
            "- Upper transition bandwidth: 12.50 Hz (-6 dB cutoff frequency: 56.25 Hz)\n",
            "- Filter length: 845 samples (3.301 s)\n",
            "\n"
          ]
        },
        {
          "name": "stderr",
          "output_type": "stream",
          "text": [
            "[Parallel(n_jobs=1)]: Done  17 tasks      | elapsed:    0.1s\n"
          ]
        },
        {
          "name": "stdout",
          "output_type": "stream",
          "text": [
            "Fitting ICA to data using 23 channels (please be patient, this may take a while)\n",
            "Selecting by number: 23 components\n",
            "Fitting ICA took 7.6s.\n"
          ]
        },
        {
          "name": "stderr",
          "output_type": "stream",
          "text": [
            "<ipython-input-16-0be77fa5ad3f>:58: RuntimeWarning: Using n_components=23 (resulting in n_components_=23) may lead to an unstable mixing matrix estimation because the ratio between the largest (7.9) and smallest (2.1e-32) variances is too large (> 1e6); consider setting n_components=0.999999 or an integer <= 21\n",
            "  ica.fit(raw_epoch)\n"
          ]
        },
        {
          "name": "stdout",
          "output_type": "stream",
          "text": [
            "File chb08_02.edf - Epoch 4/10: Explained variance ratio by first 20 components: [0.09655449 0.06655546 0.05869597 0.04984993 0.03484421 0.03328721\n",
            " 0.0303522  0.0279529  0.02485162 0.02276379 0.01949042 0.01911999\n",
            " 0.01835669 0.01671088 0.01573427 0.01478713]\n",
            "Creating RawArray with float64 data, n_channels=23, n_times=92160\n",
            "    Range : 0 ... 92159 =      0.000 ...   359.996 secs\n",
            "Ready.\n",
            "Filtering raw data in 1 contiguous segment\n",
            "Setting up band-pass filter from 1 - 50 Hz\n",
            "\n",
            "FIR filter parameters\n",
            "---------------------\n",
            "Designing a one-pass, zero-phase, non-causal bandpass filter:\n",
            "- Windowed time-domain design (firwin) method\n",
            "- Hamming window with 0.0194 passband ripple and 53 dB stopband attenuation\n",
            "- Lower passband edge: 1.00\n",
            "- Lower transition bandwidth: 1.00 Hz (-6 dB cutoff frequency: 0.50 Hz)\n",
            "- Upper passband edge: 50.00 Hz\n",
            "- Upper transition bandwidth: 12.50 Hz (-6 dB cutoff frequency: 56.25 Hz)\n",
            "- Filter length: 845 samples (3.301 s)\n",
            "\n"
          ]
        },
        {
          "name": "stderr",
          "output_type": "stream",
          "text": [
            "[Parallel(n_jobs=1)]: Done  17 tasks      | elapsed:    0.1s\n"
          ]
        },
        {
          "name": "stdout",
          "output_type": "stream",
          "text": [
            "Fitting ICA to data using 23 channels (please be patient, this may take a while)\n",
            "Selecting by number: 23 components\n",
            "Fitting ICA took 15.9s.\n"
          ]
        },
        {
          "name": "stderr",
          "output_type": "stream",
          "text": [
            "<ipython-input-16-0be77fa5ad3f>:58: RuntimeWarning: Using n_components=23 (resulting in n_components_=23) may lead to an unstable mixing matrix estimation because the ratio between the largest (8.9) and smallest (4.6e-32) variances is too large (> 1e6); consider setting n_components=0.999999 or an integer <= 21\n",
            "  ica.fit(raw_epoch)\n"
          ]
        },
        {
          "name": "stdout",
          "output_type": "stream",
          "text": [
            "File chb08_02.edf - Epoch 5/10: Explained variance ratio by first 20 components: [0.10890267 0.07691036 0.06143842 0.05445441 0.03720253 0.03280048\n",
            " 0.02998387 0.02726294 0.02383924 0.02222331 0.02030816 0.01907739\n",
            " 0.01613066 0.01522352 0.01452478 0.01397148]\n",
            "Creating RawArray with float64 data, n_channels=23, n_times=92160\n",
            "    Range : 0 ... 92159 =      0.000 ...   359.996 secs\n",
            "Ready.\n",
            "Filtering raw data in 1 contiguous segment\n",
            "Setting up band-pass filter from 1 - 50 Hz\n",
            "\n",
            "FIR filter parameters\n",
            "---------------------\n",
            "Designing a one-pass, zero-phase, non-causal bandpass filter:\n",
            "- Windowed time-domain design (firwin) method\n",
            "- Hamming window with 0.0194 passband ripple and 53 dB stopband attenuation\n",
            "- Lower passband edge: 1.00\n",
            "- Lower transition bandwidth: 1.00 Hz (-6 dB cutoff frequency: 0.50 Hz)\n",
            "- Upper passband edge: 50.00 Hz\n",
            "- Upper transition bandwidth: 12.50 Hz (-6 dB cutoff frequency: 56.25 Hz)\n",
            "- Filter length: 845 samples (3.301 s)\n",
            "\n"
          ]
        },
        {
          "name": "stderr",
          "output_type": "stream",
          "text": [
            "[Parallel(n_jobs=1)]: Done  17 tasks      | elapsed:    0.1s\n"
          ]
        },
        {
          "name": "stdout",
          "output_type": "stream",
          "text": [
            "Fitting ICA to data using 23 channels (please be patient, this may take a while)\n",
            "Selecting by number: 23 components\n",
            "Fitting ICA took 8.9s.\n"
          ]
        },
        {
          "name": "stderr",
          "output_type": "stream",
          "text": [
            "<ipython-input-16-0be77fa5ad3f>:58: RuntimeWarning: Using n_components=23 (resulting in n_components_=23) may lead to an unstable mixing matrix estimation because the ratio between the largest (8) and smallest (4.5e-32) variances is too large (> 1e6); consider setting n_components=0.999999 or an integer <= 21\n",
            "  ica.fit(raw_epoch)\n"
          ]
        },
        {
          "name": "stdout",
          "output_type": "stream",
          "text": [
            "File chb08_02.edf - Epoch 6/10: Explained variance ratio by first 20 components: [0.10038013 0.06835721 0.05991642 0.05134333 0.03357264 0.03147605\n",
            " 0.02987191 0.0273529  0.02546426 0.02211439 0.01915873 0.01837222\n",
            " 0.01716785 0.01651718 0.01639622 0.01473593]\n",
            "Creating RawArray with float64 data, n_channels=23, n_times=92160\n",
            "    Range : 0 ... 92159 =      0.000 ...   359.996 secs\n",
            "Ready.\n",
            "Filtering raw data in 1 contiguous segment\n",
            "Setting up band-pass filter from 1 - 50 Hz\n",
            "\n",
            "FIR filter parameters\n",
            "---------------------\n",
            "Designing a one-pass, zero-phase, non-causal bandpass filter:\n",
            "- Windowed time-domain design (firwin) method\n",
            "- Hamming window with 0.0194 passband ripple and 53 dB stopband attenuation\n",
            "- Lower passband edge: 1.00\n",
            "- Lower transition bandwidth: 1.00 Hz (-6 dB cutoff frequency: 0.50 Hz)\n",
            "- Upper passband edge: 50.00 Hz\n",
            "- Upper transition bandwidth: 12.50 Hz (-6 dB cutoff frequency: 56.25 Hz)\n",
            "- Filter length: 845 samples (3.301 s)\n",
            "\n"
          ]
        },
        {
          "name": "stderr",
          "output_type": "stream",
          "text": [
            "[Parallel(n_jobs=1)]: Done  17 tasks      | elapsed:    0.1s\n"
          ]
        },
        {
          "name": "stdout",
          "output_type": "stream",
          "text": [
            "Fitting ICA to data using 23 channels (please be patient, this may take a while)\n",
            "Selecting by number: 23 components\n",
            "Fitting ICA took 9.4s.\n"
          ]
        },
        {
          "name": "stderr",
          "output_type": "stream",
          "text": [
            "<ipython-input-16-0be77fa5ad3f>:58: RuntimeWarning: Using n_components=23 (resulting in n_components_=23) may lead to an unstable mixing matrix estimation because the ratio between the largest (8.4) and smallest (1e-32) variances is too large (> 1e6); consider setting n_components=0.999999 or an integer <= 21\n",
            "  ica.fit(raw_epoch)\n"
          ]
        },
        {
          "name": "stdout",
          "output_type": "stream",
          "text": [
            "File chb08_02.edf - Epoch 7/10: Explained variance ratio by first 20 components: [0.12193185 0.07260383 0.06179695 0.05299458 0.03817293 0.03431334\n",
            " 0.03231535 0.02530356 0.02232544 0.02132546 0.01911989 0.01828679\n",
            " 0.01653345 0.01574297 0.01434057 0.01413837]\n",
            "Creating RawArray with float64 data, n_channels=23, n_times=92160\n",
            "    Range : 0 ... 92159 =      0.000 ...   359.996 secs\n",
            "Ready.\n",
            "Filtering raw data in 1 contiguous segment\n",
            "Setting up band-pass filter from 1 - 50 Hz\n",
            "\n",
            "FIR filter parameters\n",
            "---------------------\n",
            "Designing a one-pass, zero-phase, non-causal bandpass filter:\n",
            "- Windowed time-domain design (firwin) method\n",
            "- Hamming window with 0.0194 passband ripple and 53 dB stopband attenuation\n",
            "- Lower passband edge: 1.00\n",
            "- Lower transition bandwidth: 1.00 Hz (-6 dB cutoff frequency: 0.50 Hz)\n",
            "- Upper passband edge: 50.00 Hz\n",
            "- Upper transition bandwidth: 12.50 Hz (-6 dB cutoff frequency: 56.25 Hz)\n",
            "- Filter length: 845 samples (3.301 s)\n",
            "\n"
          ]
        },
        {
          "name": "stderr",
          "output_type": "stream",
          "text": [
            "[Parallel(n_jobs=1)]: Done  17 tasks      | elapsed:    0.1s\n"
          ]
        },
        {
          "name": "stdout",
          "output_type": "stream",
          "text": [
            "Fitting ICA to data using 23 channels (please be patient, this may take a while)\n",
            "Selecting by number: 23 components\n",
            "Fitting ICA took 12.3s.\n"
          ]
        },
        {
          "name": "stderr",
          "output_type": "stream",
          "text": [
            "<ipython-input-16-0be77fa5ad3f>:58: RuntimeWarning: Using n_components=23 (resulting in n_components_=23) may lead to an unstable mixing matrix estimation because the ratio between the largest (4.5) and smallest (5.5e-32) variances is too large (> 1e6); consider setting n_components=0.999999 or an integer <= 21\n",
            "  ica.fit(raw_epoch)\n"
          ]
        },
        {
          "name": "stdout",
          "output_type": "stream",
          "text": [
            "File chb08_02.edf - Epoch 8/10: Explained variance ratio by first 20 components: [0.07674202 0.06576615 0.04884302 0.0425985  0.03749633 0.03254714\n",
            " 0.03237795 0.02927089 0.02543664 0.02391624 0.02317924 0.02181345\n",
            " 0.01954665 0.01878061 0.01849959 0.01668699]\n",
            "Creating RawArray with float64 data, n_channels=23, n_times=92160\n",
            "    Range : 0 ... 92159 =      0.000 ...   359.996 secs\n",
            "Ready.\n",
            "Filtering raw data in 1 contiguous segment\n",
            "Setting up band-pass filter from 1 - 50 Hz\n",
            "\n",
            "FIR filter parameters\n",
            "---------------------\n",
            "Designing a one-pass, zero-phase, non-causal bandpass filter:\n",
            "- Windowed time-domain design (firwin) method\n",
            "- Hamming window with 0.0194 passband ripple and 53 dB stopband attenuation\n",
            "- Lower passband edge: 1.00\n",
            "- Lower transition bandwidth: 1.00 Hz (-6 dB cutoff frequency: 0.50 Hz)\n",
            "- Upper passband edge: 50.00 Hz\n",
            "- Upper transition bandwidth: 12.50 Hz (-6 dB cutoff frequency: 56.25 Hz)\n",
            "- Filter length: 845 samples (3.301 s)\n",
            "\n"
          ]
        },
        {
          "name": "stderr",
          "output_type": "stream",
          "text": [
            "[Parallel(n_jobs=1)]: Done  17 tasks      | elapsed:    0.1s\n"
          ]
        },
        {
          "name": "stdout",
          "output_type": "stream",
          "text": [
            "Fitting ICA to data using 23 channels (please be patient, this may take a while)\n",
            "Selecting by number: 23 components\n",
            "Fitting ICA took 13.0s.\n"
          ]
        },
        {
          "name": "stderr",
          "output_type": "stream",
          "text": [
            "<ipython-input-16-0be77fa5ad3f>:58: RuntimeWarning: Using n_components=23 (resulting in n_components_=23) may lead to an unstable mixing matrix estimation because the ratio between the largest (4.7) and smallest (8.9e-32) variances is too large (> 1e6); consider setting n_components=0.999999 or an integer <= 21\n",
            "  ica.fit(raw_epoch)\n"
          ]
        },
        {
          "name": "stdout",
          "output_type": "stream",
          "text": [
            "File chb08_02.edf - Epoch 9/10: Explained variance ratio by first 20 components: [0.07196731 0.05604906 0.04649981 0.04276051 0.0380791  0.03551238\n",
            " 0.03260542 0.02856288 0.02628922 0.02433758 0.02393745 0.02043881\n",
            " 0.01998361 0.01962135 0.01722038 0.0163979 ]\n",
            "Creating RawArray with float64 data, n_channels=23, n_times=92160\n",
            "    Range : 0 ... 92159 =      0.000 ...   359.996 secs\n",
            "Ready.\n",
            "Filtering raw data in 1 contiguous segment\n",
            "Setting up band-pass filter from 1 - 50 Hz\n",
            "\n",
            "FIR filter parameters\n",
            "---------------------\n",
            "Designing a one-pass, zero-phase, non-causal bandpass filter:\n",
            "- Windowed time-domain design (firwin) method\n",
            "- Hamming window with 0.0194 passband ripple and 53 dB stopband attenuation\n",
            "- Lower passband edge: 1.00\n",
            "- Lower transition bandwidth: 1.00 Hz (-6 dB cutoff frequency: 0.50 Hz)\n",
            "- Upper passband edge: 50.00 Hz\n",
            "- Upper transition bandwidth: 12.50 Hz (-6 dB cutoff frequency: 56.25 Hz)\n",
            "- Filter length: 845 samples (3.301 s)\n",
            "\n"
          ]
        },
        {
          "name": "stderr",
          "output_type": "stream",
          "text": [
            "[Parallel(n_jobs=1)]: Done  17 tasks      | elapsed:    0.1s\n"
          ]
        },
        {
          "name": "stdout",
          "output_type": "stream",
          "text": [
            "Fitting ICA to data using 23 channels (please be patient, this may take a while)\n",
            "Selecting by number: 23 components\n",
            "Fitting ICA took 6.7s.\n"
          ]
        },
        {
          "name": "stderr",
          "output_type": "stream",
          "text": [
            "<ipython-input-16-0be77fa5ad3f>:58: RuntimeWarning: Using n_components=23 (resulting in n_components_=23) may lead to an unstable mixing matrix estimation because the ratio between the largest (5.9) and smallest (1.7e-32) variances is too large (> 1e6); consider setting n_components=0.999999 or an integer <= 21\n",
            "  ica.fit(raw_epoch)\n"
          ]
        },
        {
          "name": "stdout",
          "output_type": "stream",
          "text": [
            "File chb08_02.edf - Epoch 10/10: Explained variance ratio by first 20 components: [0.0910465  0.06994395 0.04872196 0.04769494 0.03897327 0.03350213\n",
            " 0.02935393 0.02668238 0.02626266 0.02467185 0.02385569 0.02176583\n",
            " 0.01925426 0.01746139 0.01598189 0.01509867]\n",
            "Processed and saved features for file chb08_02.edf.\n",
            "Extracting EDF parameters from /content/drive/MyDrive/Epileptic_Seizure_Classification_Project/Dataset/chb-mit-scalp-eeg-database-1.0.0/chb08/chb08_04.edf...\n",
            "EDF file detected\n",
            "Setting channel info structure...\n",
            "Creating raw.info structure...\n",
            "Reading 0 ... 921599  =      0.000 ...  3599.996 secs...\n"
          ]
        },
        {
          "name": "stderr",
          "output_type": "stream",
          "text": [
            "<ipython-input-16-0be77fa5ad3f>:8: RuntimeWarning: Channel names are not unique, found duplicates for: {'T8-P8'}. Applying running numbers for duplicates.\n",
            "  raw = mne.io.read_raw_edf(edf_file_path, preload=True)\n"
          ]
        },
        {
          "name": "stdout",
          "output_type": "stream",
          "text": [
            "Creating RawArray with float64 data, n_channels=23, n_times=92160\n",
            "    Range : 0 ... 92159 =      0.000 ...   359.996 secs\n",
            "Ready.\n",
            "Filtering raw data in 1 contiguous segment\n",
            "Setting up band-pass filter from 1 - 50 Hz\n",
            "\n",
            "FIR filter parameters\n",
            "---------------------\n",
            "Designing a one-pass, zero-phase, non-causal bandpass filter:\n",
            "- Windowed time-domain design (firwin) method\n",
            "- Hamming window with 0.0194 passband ripple and 53 dB stopband attenuation\n",
            "- Lower passband edge: 1.00\n",
            "- Lower transition bandwidth: 1.00 Hz (-6 dB cutoff frequency: 0.50 Hz)\n",
            "- Upper passband edge: 50.00 Hz\n",
            "- Upper transition bandwidth: 12.50 Hz (-6 dB cutoff frequency: 56.25 Hz)\n",
            "- Filter length: 845 samples (3.301 s)\n",
            "\n"
          ]
        },
        {
          "name": "stderr",
          "output_type": "stream",
          "text": [
            "[Parallel(n_jobs=1)]: Done  17 tasks      | elapsed:    0.1s\n"
          ]
        },
        {
          "name": "stdout",
          "output_type": "stream",
          "text": [
            "Fitting ICA to data using 23 channels (please be patient, this may take a while)\n",
            "Selecting by number: 23 components\n",
            "Fitting ICA took 16.8s.\n"
          ]
        },
        {
          "name": "stderr",
          "output_type": "stream",
          "text": [
            "<ipython-input-16-0be77fa5ad3f>:58: RuntimeWarning: Using n_components=23 (resulting in n_components_=23) may lead to an unstable mixing matrix estimation because the ratio between the largest (5.9) and smallest (1.2e-31) variances is too large (> 1e6); consider setting n_components=0.999999 or an integer <= 21\n",
            "  ica.fit(raw_epoch)\n"
          ]
        },
        {
          "name": "stdout",
          "output_type": "stream",
          "text": [
            "File chb08_04.edf - Epoch 1/10: Explained variance ratio by first 20 components: [0.08597598 0.05483925 0.05407704 0.04404362 0.03416214 0.0332126\n",
            " 0.03005057 0.02770596 0.02580113 0.02461563 0.02135115 0.02065327\n",
            " 0.01902745 0.01797625 0.01789599 0.01597964]\n",
            "Creating RawArray with float64 data, n_channels=23, n_times=92160\n",
            "    Range : 0 ... 92159 =      0.000 ...   359.996 secs\n",
            "Ready.\n",
            "Filtering raw data in 1 contiguous segment\n",
            "Setting up band-pass filter from 1 - 50 Hz\n",
            "\n",
            "FIR filter parameters\n",
            "---------------------\n",
            "Designing a one-pass, zero-phase, non-causal bandpass filter:\n",
            "- Windowed time-domain design (firwin) method\n",
            "- Hamming window with 0.0194 passband ripple and 53 dB stopband attenuation\n",
            "- Lower passband edge: 1.00\n",
            "- Lower transition bandwidth: 1.00 Hz (-6 dB cutoff frequency: 0.50 Hz)\n",
            "- Upper passband edge: 50.00 Hz\n",
            "- Upper transition bandwidth: 12.50 Hz (-6 dB cutoff frequency: 56.25 Hz)\n",
            "- Filter length: 845 samples (3.301 s)\n",
            "\n"
          ]
        },
        {
          "name": "stderr",
          "output_type": "stream",
          "text": [
            "[Parallel(n_jobs=1)]: Done  17 tasks      | elapsed:    0.1s\n"
          ]
        },
        {
          "name": "stdout",
          "output_type": "stream",
          "text": [
            "Fitting ICA to data using 23 channels (please be patient, this may take a while)\n",
            "Selecting by number: 23 components\n",
            "Fitting ICA took 7.7s.\n"
          ]
        },
        {
          "name": "stderr",
          "output_type": "stream",
          "text": [
            "<ipython-input-16-0be77fa5ad3f>:58: RuntimeWarning: Using n_components=23 (resulting in n_components_=23) may lead to an unstable mixing matrix estimation because the ratio between the largest (6.6) and smallest (7.9e-32) variances is too large (> 1e6); consider setting n_components=0.999999 or an integer <= 21\n",
            "  ica.fit(raw_epoch)\n"
          ]
        },
        {
          "name": "stdout",
          "output_type": "stream",
          "text": [
            "File chb08_04.edf - Epoch 2/10: Explained variance ratio by first 20 components: [0.08683023 0.06449707 0.05856298 0.0450256  0.035228   0.03246446\n",
            " 0.02993288 0.02902124 0.02704935 0.02344392 0.02116765 0.01970741\n",
            " 0.01836124 0.01772051 0.01658504 0.01603234]\n",
            "Creating RawArray with float64 data, n_channels=23, n_times=92160\n",
            "    Range : 0 ... 92159 =      0.000 ...   359.996 secs\n",
            "Ready.\n",
            "Filtering raw data in 1 contiguous segment\n",
            "Setting up band-pass filter from 1 - 50 Hz\n",
            "\n",
            "FIR filter parameters\n",
            "---------------------\n",
            "Designing a one-pass, zero-phase, non-causal bandpass filter:\n",
            "- Windowed time-domain design (firwin) method\n",
            "- Hamming window with 0.0194 passband ripple and 53 dB stopband attenuation\n",
            "- Lower passband edge: 1.00\n",
            "- Lower transition bandwidth: 1.00 Hz (-6 dB cutoff frequency: 0.50 Hz)\n",
            "- Upper passband edge: 50.00 Hz\n",
            "- Upper transition bandwidth: 12.50 Hz (-6 dB cutoff frequency: 56.25 Hz)\n",
            "- Filter length: 845 samples (3.301 s)\n",
            "\n"
          ]
        },
        {
          "name": "stderr",
          "output_type": "stream",
          "text": [
            "[Parallel(n_jobs=1)]: Done  17 tasks      | elapsed:    0.1s\n"
          ]
        },
        {
          "name": "stdout",
          "output_type": "stream",
          "text": [
            "Fitting ICA to data using 23 channels (please be patient, this may take a while)\n",
            "Selecting by number: 23 components\n",
            "Fitting ICA took 17.4s.\n"
          ]
        },
        {
          "name": "stderr",
          "output_type": "stream",
          "text": [
            "<ipython-input-16-0be77fa5ad3f>:58: RuntimeWarning: Using n_components=23 (resulting in n_components_=23) may lead to an unstable mixing matrix estimation because the ratio between the largest (6.5) and smallest (5.8e-32) variances is too large (> 1e6); consider setting n_components=0.999999 or an integer <= 21\n",
            "  ica.fit(raw_epoch)\n"
          ]
        },
        {
          "name": "stdout",
          "output_type": "stream",
          "text": [
            "File chb08_04.edf - Epoch 3/10: Explained variance ratio by first 20 components: [0.08523858 0.06304925 0.05331333 0.04474628 0.03658456 0.03358278\n",
            " 0.0295148  0.02801816 0.0252634  0.02270065 0.02211976 0.02076481\n",
            " 0.01871494 0.01773908 0.01722884 0.01619963]\n",
            "Creating RawArray with float64 data, n_channels=23, n_times=92160\n",
            "    Range : 0 ... 92159 =      0.000 ...   359.996 secs\n",
            "Ready.\n",
            "Filtering raw data in 1 contiguous segment\n",
            "Setting up band-pass filter from 1 - 50 Hz\n",
            "\n",
            "FIR filter parameters\n",
            "---------------------\n",
            "Designing a one-pass, zero-phase, non-causal bandpass filter:\n",
            "- Windowed time-domain design (firwin) method\n",
            "- Hamming window with 0.0194 passband ripple and 53 dB stopband attenuation\n",
            "- Lower passband edge: 1.00\n",
            "- Lower transition bandwidth: 1.00 Hz (-6 dB cutoff frequency: 0.50 Hz)\n",
            "- Upper passband edge: 50.00 Hz\n",
            "- Upper transition bandwidth: 12.50 Hz (-6 dB cutoff frequency: 56.25 Hz)\n",
            "- Filter length: 845 samples (3.301 s)\n",
            "\n"
          ]
        },
        {
          "name": "stderr",
          "output_type": "stream",
          "text": [
            "[Parallel(n_jobs=1)]: Done  17 tasks      | elapsed:    0.1s\n"
          ]
        },
        {
          "name": "stdout",
          "output_type": "stream",
          "text": [
            "Fitting ICA to data using 23 channels (please be patient, this may take a while)\n",
            "Selecting by number: 23 components\n",
            "Fitting ICA took 19.1s.\n"
          ]
        },
        {
          "name": "stderr",
          "output_type": "stream",
          "text": [
            "<ipython-input-16-0be77fa5ad3f>:58: RuntimeWarning: Using n_components=23 (resulting in n_components_=23) may lead to an unstable mixing matrix estimation because the ratio between the largest (6.6) and smallest (3.5e-32) variances is too large (> 1e6); consider setting n_components=0.999999 or an integer <= 21\n",
            "  ica.fit(raw_epoch)\n"
          ]
        },
        {
          "name": "stdout",
          "output_type": "stream",
          "text": [
            "File chb08_04.edf - Epoch 4/10: Explained variance ratio by first 20 components: [0.08348841 0.05932042 0.05265449 0.04381797 0.03521754 0.03391115\n",
            " 0.03023189 0.02825844 0.02650762 0.02439571 0.0209853  0.02022848\n",
            " 0.01832887 0.01773402 0.01682037 0.01588795]\n",
            "Creating RawArray with float64 data, n_channels=23, n_times=92160\n",
            "    Range : 0 ... 92159 =      0.000 ...   359.996 secs\n",
            "Ready.\n",
            "Filtering raw data in 1 contiguous segment\n",
            "Setting up band-pass filter from 1 - 50 Hz\n",
            "\n",
            "FIR filter parameters\n",
            "---------------------\n",
            "Designing a one-pass, zero-phase, non-causal bandpass filter:\n",
            "- Windowed time-domain design (firwin) method\n",
            "- Hamming window with 0.0194 passband ripple and 53 dB stopband attenuation\n",
            "- Lower passband edge: 1.00\n",
            "- Lower transition bandwidth: 1.00 Hz (-6 dB cutoff frequency: 0.50 Hz)\n",
            "- Upper passband edge: 50.00 Hz\n",
            "- Upper transition bandwidth: 12.50 Hz (-6 dB cutoff frequency: 56.25 Hz)\n",
            "- Filter length: 845 samples (3.301 s)\n",
            "\n"
          ]
        },
        {
          "name": "stderr",
          "output_type": "stream",
          "text": [
            "[Parallel(n_jobs=1)]: Done  17 tasks      | elapsed:    0.1s\n"
          ]
        },
        {
          "name": "stdout",
          "output_type": "stream",
          "text": [
            "Fitting ICA to data using 23 channels (please be patient, this may take a while)\n",
            "Selecting by number: 23 components\n",
            "Fitting ICA took 21.6s.\n"
          ]
        },
        {
          "name": "stderr",
          "output_type": "stream",
          "text": [
            "<ipython-input-16-0be77fa5ad3f>:58: RuntimeWarning: Using n_components=23 (resulting in n_components_=23) may lead to an unstable mixing matrix estimation because the ratio between the largest (6.8) and smallest (2.2e-32) variances is too large (> 1e6); consider setting n_components=0.999999 or an integer <= 21\n",
            "  ica.fit(raw_epoch)\n"
          ]
        },
        {
          "name": "stdout",
          "output_type": "stream",
          "text": [
            "File chb08_04.edf - Epoch 5/10: Explained variance ratio by first 20 components: [0.08186721 0.06323597 0.05614993 0.04432003 0.03731992 0.03393436\n",
            " 0.03138688 0.0287002  0.02625118 0.02432707 0.02119551 0.02013572\n",
            " 0.01961482 0.01855723 0.01575986 0.01574453]\n",
            "Creating RawArray with float64 data, n_channels=23, n_times=92160\n",
            "    Range : 0 ... 92159 =      0.000 ...   359.996 secs\n",
            "Ready.\n",
            "Filtering raw data in 1 contiguous segment\n",
            "Setting up band-pass filter from 1 - 50 Hz\n",
            "\n",
            "FIR filter parameters\n",
            "---------------------\n",
            "Designing a one-pass, zero-phase, non-causal bandpass filter:\n",
            "- Windowed time-domain design (firwin) method\n",
            "- Hamming window with 0.0194 passband ripple and 53 dB stopband attenuation\n",
            "- Lower passband edge: 1.00\n",
            "- Lower transition bandwidth: 1.00 Hz (-6 dB cutoff frequency: 0.50 Hz)\n",
            "- Upper passband edge: 50.00 Hz\n",
            "- Upper transition bandwidth: 12.50 Hz (-6 dB cutoff frequency: 56.25 Hz)\n",
            "- Filter length: 845 samples (3.301 s)\n",
            "\n"
          ]
        },
        {
          "name": "stderr",
          "output_type": "stream",
          "text": [
            "[Parallel(n_jobs=1)]: Done  17 tasks      | elapsed:    0.1s\n"
          ]
        },
        {
          "name": "stdout",
          "output_type": "stream",
          "text": [
            "Fitting ICA to data using 23 channels (please be patient, this may take a while)\n",
            "Selecting by number: 23 components\n",
            "Fitting ICA took 14.0s.\n"
          ]
        },
        {
          "name": "stderr",
          "output_type": "stream",
          "text": [
            "<ipython-input-16-0be77fa5ad3f>:58: RuntimeWarning: Using n_components=23 (resulting in n_components_=23) may lead to an unstable mixing matrix estimation because the ratio between the largest (6.1) and smallest (1.9e-32) variances is too large (> 1e6); consider setting n_components=0.999999 or an integer <= 21\n",
            "  ica.fit(raw_epoch)\n"
          ]
        },
        {
          "name": "stdout",
          "output_type": "stream",
          "text": [
            "File chb08_04.edf - Epoch 6/10: Explained variance ratio by first 20 components: [0.08388778 0.05696204 0.05552706 0.04449295 0.03300377 0.03227625\n",
            " 0.03157734 0.02729177 0.02603514 0.02339139 0.02239579 0.01972675\n",
            " 0.0195853  0.01824755 0.01760743 0.0172851 ]\n",
            "Creating RawArray with float64 data, n_channels=23, n_times=92160\n",
            "    Range : 0 ... 92159 =      0.000 ...   359.996 secs\n",
            "Ready.\n",
            "Filtering raw data in 1 contiguous segment\n",
            "Setting up band-pass filter from 1 - 50 Hz\n",
            "\n",
            "FIR filter parameters\n",
            "---------------------\n",
            "Designing a one-pass, zero-phase, non-causal bandpass filter:\n",
            "- Windowed time-domain design (firwin) method\n",
            "- Hamming window with 0.0194 passband ripple and 53 dB stopband attenuation\n",
            "- Lower passband edge: 1.00\n",
            "- Lower transition bandwidth: 1.00 Hz (-6 dB cutoff frequency: 0.50 Hz)\n",
            "- Upper passband edge: 50.00 Hz\n",
            "- Upper transition bandwidth: 12.50 Hz (-6 dB cutoff frequency: 56.25 Hz)\n",
            "- Filter length: 845 samples (3.301 s)\n",
            "\n"
          ]
        },
        {
          "name": "stderr",
          "output_type": "stream",
          "text": [
            "[Parallel(n_jobs=1)]: Done  17 tasks      | elapsed:    0.1s\n"
          ]
        },
        {
          "name": "stdout",
          "output_type": "stream",
          "text": [
            "Fitting ICA to data using 23 channels (please be patient, this may take a while)\n",
            "Selecting by number: 23 components\n",
            "Fitting ICA took 14.0s.\n"
          ]
        },
        {
          "name": "stderr",
          "output_type": "stream",
          "text": [
            "<ipython-input-16-0be77fa5ad3f>:58: RuntimeWarning: Using n_components=23 (resulting in n_components_=23) may lead to an unstable mixing matrix estimation because the ratio between the largest (6.4) and smallest (1.1e-31) variances is too large (> 1e6); consider setting n_components=0.999999 or an integer <= 21\n",
            "  ica.fit(raw_epoch)\n"
          ]
        },
        {
          "name": "stdout",
          "output_type": "stream",
          "text": [
            "File chb08_04.edf - Epoch 7/10: Explained variance ratio by first 20 components: [0.09319439 0.05978861 0.05148812 0.04446835 0.03781382 0.03497715\n",
            " 0.02889462 0.02786452 0.02509504 0.02256499 0.02178061 0.01939415\n",
            " 0.01879903 0.01788615 0.01686133 0.01647463]\n",
            "Creating RawArray with float64 data, n_channels=23, n_times=92160\n",
            "    Range : 0 ... 92159 =      0.000 ...   359.996 secs\n",
            "Ready.\n",
            "Filtering raw data in 1 contiguous segment\n",
            "Setting up band-pass filter from 1 - 50 Hz\n",
            "\n",
            "FIR filter parameters\n",
            "---------------------\n",
            "Designing a one-pass, zero-phase, non-causal bandpass filter:\n",
            "- Windowed time-domain design (firwin) method\n",
            "- Hamming window with 0.0194 passband ripple and 53 dB stopband attenuation\n",
            "- Lower passband edge: 1.00\n",
            "- Lower transition bandwidth: 1.00 Hz (-6 dB cutoff frequency: 0.50 Hz)\n",
            "- Upper passband edge: 50.00 Hz\n",
            "- Upper transition bandwidth: 12.50 Hz (-6 dB cutoff frequency: 56.25 Hz)\n",
            "- Filter length: 845 samples (3.301 s)\n",
            "\n"
          ]
        },
        {
          "name": "stderr",
          "output_type": "stream",
          "text": [
            "[Parallel(n_jobs=1)]: Done  17 tasks      | elapsed:    0.1s\n"
          ]
        },
        {
          "name": "stdout",
          "output_type": "stream",
          "text": [
            "Fitting ICA to data using 23 channels (please be patient, this may take a while)\n",
            "Selecting by number: 23 components\n",
            "Fitting ICA took 5.7s.\n"
          ]
        },
        {
          "name": "stderr",
          "output_type": "stream",
          "text": [
            "<ipython-input-16-0be77fa5ad3f>:58: RuntimeWarning: Using n_components=23 (resulting in n_components_=23) may lead to an unstable mixing matrix estimation because the ratio between the largest (7.3) and smallest (6.7e-32) variances is too large (> 1e6); consider setting n_components=0.999999 or an integer <= 21\n",
            "  ica.fit(raw_epoch)\n"
          ]
        },
        {
          "name": "stdout",
          "output_type": "stream",
          "text": [
            "File chb08_04.edf - Epoch 8/10: Explained variance ratio by first 20 components: [0.09558355 0.06246036 0.05393309 0.03663896 0.03578488 0.03315036\n",
            " 0.03169204 0.0288101  0.025249   0.0223093  0.02100287 0.02004857\n",
            " 0.0190906  0.01845534 0.0170634  0.01646625]\n",
            "Creating RawArray with float64 data, n_channels=23, n_times=92160\n",
            "    Range : 0 ... 92159 =      0.000 ...   359.996 secs\n",
            "Ready.\n",
            "Filtering raw data in 1 contiguous segment\n",
            "Setting up band-pass filter from 1 - 50 Hz\n",
            "\n",
            "FIR filter parameters\n",
            "---------------------\n",
            "Designing a one-pass, zero-phase, non-causal bandpass filter:\n",
            "- Windowed time-domain design (firwin) method\n",
            "- Hamming window with 0.0194 passband ripple and 53 dB stopband attenuation\n",
            "- Lower passband edge: 1.00\n",
            "- Lower transition bandwidth: 1.00 Hz (-6 dB cutoff frequency: 0.50 Hz)\n",
            "- Upper passband edge: 50.00 Hz\n",
            "- Upper transition bandwidth: 12.50 Hz (-6 dB cutoff frequency: 56.25 Hz)\n",
            "- Filter length: 845 samples (3.301 s)\n",
            "\n"
          ]
        },
        {
          "name": "stderr",
          "output_type": "stream",
          "text": [
            "[Parallel(n_jobs=1)]: Done  17 tasks      | elapsed:    0.1s\n"
          ]
        },
        {
          "name": "stdout",
          "output_type": "stream",
          "text": [
            "Fitting ICA to data using 23 channels (please be patient, this may take a while)\n",
            "Selecting by number: 23 components\n",
            "Fitting ICA took 8.9s.\n"
          ]
        },
        {
          "name": "stderr",
          "output_type": "stream",
          "text": [
            "<ipython-input-16-0be77fa5ad3f>:58: RuntimeWarning: Using n_components=23 (resulting in n_components_=23) may lead to an unstable mixing matrix estimation because the ratio between the largest (7.7) and smallest (2.5e-32) variances is too large (> 1e6); consider setting n_components=0.999999 or an integer <= 21\n",
            "  ica.fit(raw_epoch)\n"
          ]
        },
        {
          "name": "stdout",
          "output_type": "stream",
          "text": [
            "File chb08_04.edf - Epoch 9/10: Explained variance ratio by first 20 components: [0.09324666 0.06809341 0.04866938 0.04382737 0.03804066 0.03349511\n",
            " 0.02897395 0.02676    0.02601403 0.02377224 0.02178254 0.02044352\n",
            " 0.01835126 0.01713924 0.01579706 0.01540935]\n",
            "Creating RawArray with float64 data, n_channels=23, n_times=92160\n",
            "    Range : 0 ... 92159 =      0.000 ...   359.996 secs\n",
            "Ready.\n",
            "Filtering raw data in 1 contiguous segment\n",
            "Setting up band-pass filter from 1 - 50 Hz\n",
            "\n",
            "FIR filter parameters\n",
            "---------------------\n",
            "Designing a one-pass, zero-phase, non-causal bandpass filter:\n",
            "- Windowed time-domain design (firwin) method\n",
            "- Hamming window with 0.0194 passband ripple and 53 dB stopband attenuation\n",
            "- Lower passband edge: 1.00\n",
            "- Lower transition bandwidth: 1.00 Hz (-6 dB cutoff frequency: 0.50 Hz)\n",
            "- Upper passband edge: 50.00 Hz\n",
            "- Upper transition bandwidth: 12.50 Hz (-6 dB cutoff frequency: 56.25 Hz)\n",
            "- Filter length: 845 samples (3.301 s)\n",
            "\n"
          ]
        },
        {
          "name": "stderr",
          "output_type": "stream",
          "text": [
            "[Parallel(n_jobs=1)]: Done  17 tasks      | elapsed:    0.1s\n"
          ]
        },
        {
          "name": "stdout",
          "output_type": "stream",
          "text": [
            "Fitting ICA to data using 23 channels (please be patient, this may take a while)\n",
            "Selecting by number: 23 components\n",
            "Fitting ICA took 9.9s.\n"
          ]
        },
        {
          "name": "stderr",
          "output_type": "stream",
          "text": [
            "<ipython-input-16-0be77fa5ad3f>:58: RuntimeWarning: Using n_components=23 (resulting in n_components_=23) may lead to an unstable mixing matrix estimation because the ratio between the largest (7.8) and smallest (2.9e-32) variances is too large (> 1e6); consider setting n_components=0.999999 or an integer <= 21\n",
            "  ica.fit(raw_epoch)\n"
          ]
        },
        {
          "name": "stdout",
          "output_type": "stream",
          "text": [
            "File chb08_04.edf - Epoch 10/10: Explained variance ratio by first 20 components: [0.08892387 0.05909866 0.04678725 0.04526798 0.03383158 0.03266972\n",
            " 0.02983465 0.02869046 0.02546026 0.02473032 0.02230081 0.01988957\n",
            " 0.01960594 0.0185992  0.01669297 0.01573771]\n",
            "Processed and saved features for file chb08_04.edf.\n",
            "Extracting EDF parameters from /content/drive/MyDrive/Epileptic_Seizure_Classification_Project/Dataset/chb-mit-scalp-eeg-database-1.0.0/chb08/chb08_05.edf...\n",
            "EDF file detected\n",
            "Setting channel info structure...\n",
            "Creating raw.info structure...\n",
            "Reading 0 ... 921599  =      0.000 ...  3599.996 secs...\n"
          ]
        },
        {
          "name": "stderr",
          "output_type": "stream",
          "text": [
            "<ipython-input-16-0be77fa5ad3f>:8: RuntimeWarning: Channel names are not unique, found duplicates for: {'T8-P8'}. Applying running numbers for duplicates.\n",
            "  raw = mne.io.read_raw_edf(edf_file_path, preload=True)\n"
          ]
        },
        {
          "name": "stdout",
          "output_type": "stream",
          "text": [
            "Creating RawArray with float64 data, n_channels=23, n_times=92160\n",
            "    Range : 0 ... 92159 =      0.000 ...   359.996 secs\n",
            "Ready.\n",
            "Filtering raw data in 1 contiguous segment\n",
            "Setting up band-pass filter from 1 - 50 Hz\n",
            "\n",
            "FIR filter parameters\n",
            "---------------------\n",
            "Designing a one-pass, zero-phase, non-causal bandpass filter:\n",
            "- Windowed time-domain design (firwin) method\n",
            "- Hamming window with 0.0194 passband ripple and 53 dB stopband attenuation\n",
            "- Lower passband edge: 1.00\n",
            "- Lower transition bandwidth: 1.00 Hz (-6 dB cutoff frequency: 0.50 Hz)\n",
            "- Upper passband edge: 50.00 Hz\n",
            "- Upper transition bandwidth: 12.50 Hz (-6 dB cutoff frequency: 56.25 Hz)\n",
            "- Filter length: 845 samples (3.301 s)\n",
            "\n"
          ]
        },
        {
          "name": "stderr",
          "output_type": "stream",
          "text": [
            "[Parallel(n_jobs=1)]: Done  17 tasks      | elapsed:    0.1s\n"
          ]
        },
        {
          "name": "stdout",
          "output_type": "stream",
          "text": [
            "Fitting ICA to data using 23 channels (please be patient, this may take a while)\n",
            "Selecting by number: 23 components\n",
            "Fitting ICA took 10.3s.\n"
          ]
        },
        {
          "name": "stderr",
          "output_type": "stream",
          "text": [
            "<ipython-input-16-0be77fa5ad3f>:58: RuntimeWarning: Using n_components=23 (resulting in n_components_=23) may lead to an unstable mixing matrix estimation because the ratio between the largest (7.7) and smallest (1.6e-32) variances is too large (> 1e6); consider setting n_components=0.999999 or an integer <= 21\n",
            "  ica.fit(raw_epoch)\n"
          ]
        },
        {
          "name": "stdout",
          "output_type": "stream",
          "text": [
            "File chb08_05.edf - Epoch 1/10: Explained variance ratio by first 20 components: [0.08473199 0.06176958 0.05390428 0.04540382 0.03535355 0.03181866\n",
            " 0.03103773 0.0288462  0.02641415 0.02568196 0.02136897 0.02057643\n",
            " 0.01864973 0.01697131 0.01644831 0.01544377]\n",
            "Creating RawArray with float64 data, n_channels=23, n_times=92160\n",
            "    Range : 0 ... 92159 =      0.000 ...   359.996 secs\n",
            "Ready.\n",
            "Filtering raw data in 1 contiguous segment\n",
            "Setting up band-pass filter from 1 - 50 Hz\n",
            "\n",
            "FIR filter parameters\n",
            "---------------------\n",
            "Designing a one-pass, zero-phase, non-causal bandpass filter:\n",
            "- Windowed time-domain design (firwin) method\n",
            "- Hamming window with 0.0194 passband ripple and 53 dB stopband attenuation\n",
            "- Lower passband edge: 1.00\n",
            "- Lower transition bandwidth: 1.00 Hz (-6 dB cutoff frequency: 0.50 Hz)\n",
            "- Upper passband edge: 50.00 Hz\n",
            "- Upper transition bandwidth: 12.50 Hz (-6 dB cutoff frequency: 56.25 Hz)\n",
            "- Filter length: 845 samples (3.301 s)\n",
            "\n"
          ]
        },
        {
          "name": "stderr",
          "output_type": "stream",
          "text": [
            "[Parallel(n_jobs=1)]: Done  17 tasks      | elapsed:    0.1s\n"
          ]
        },
        {
          "name": "stdout",
          "output_type": "stream",
          "text": [
            "Fitting ICA to data using 23 channels (please be patient, this may take a while)\n",
            "Selecting by number: 23 components\n",
            "Fitting ICA took 12.8s.\n"
          ]
        },
        {
          "name": "stderr",
          "output_type": "stream",
          "text": [
            "<ipython-input-16-0be77fa5ad3f>:58: RuntimeWarning: Using n_components=23 (resulting in n_components_=23) may lead to an unstable mixing matrix estimation because the ratio between the largest (7.3) and smallest (4.1e-32) variances is too large (> 1e6); consider setting n_components=0.999999 or an integer <= 21\n",
            "  ica.fit(raw_epoch)\n"
          ]
        },
        {
          "name": "stdout",
          "output_type": "stream",
          "text": [
            "File chb08_05.edf - Epoch 2/10: Explained variance ratio by first 20 components: [0.08955421 0.06356286 0.05343454 0.04595707 0.03489314 0.03215216\n",
            " 0.02907399 0.02755611 0.026421   0.02576168 0.0217158  0.02022918\n",
            " 0.01855265 0.01667167 0.01653208 0.01595572]\n",
            "Creating RawArray with float64 data, n_channels=23, n_times=92160\n",
            "    Range : 0 ... 92159 =      0.000 ...   359.996 secs\n",
            "Ready.\n",
            "Filtering raw data in 1 contiguous segment\n",
            "Setting up band-pass filter from 1 - 50 Hz\n",
            "\n",
            "FIR filter parameters\n",
            "---------------------\n",
            "Designing a one-pass, zero-phase, non-causal bandpass filter:\n",
            "- Windowed time-domain design (firwin) method\n",
            "- Hamming window with 0.0194 passband ripple and 53 dB stopband attenuation\n",
            "- Lower passband edge: 1.00\n",
            "- Lower transition bandwidth: 1.00 Hz (-6 dB cutoff frequency: 0.50 Hz)\n",
            "- Upper passband edge: 50.00 Hz\n",
            "- Upper transition bandwidth: 12.50 Hz (-6 dB cutoff frequency: 56.25 Hz)\n",
            "- Filter length: 845 samples (3.301 s)\n",
            "\n"
          ]
        },
        {
          "name": "stderr",
          "output_type": "stream",
          "text": [
            "[Parallel(n_jobs=1)]: Done  17 tasks      | elapsed:    0.1s\n"
          ]
        },
        {
          "name": "stdout",
          "output_type": "stream",
          "text": [
            "Fitting ICA to data using 23 channels (please be patient, this may take a while)\n",
            "Selecting by number: 23 components\n",
            "Fitting ICA took 14.4s.\n"
          ]
        },
        {
          "name": "stderr",
          "output_type": "stream",
          "text": [
            "<ipython-input-16-0be77fa5ad3f>:58: RuntimeWarning: Using n_components=23 (resulting in n_components_=23) may lead to an unstable mixing matrix estimation because the ratio between the largest (6.4) and smallest (6e-32) variances is too large (> 1e6); consider setting n_components=0.999999 or an integer <= 21\n",
            "  ica.fit(raw_epoch)\n"
          ]
        },
        {
          "name": "stdout",
          "output_type": "stream",
          "text": [
            "File chb08_05.edf - Epoch 3/10: Explained variance ratio by first 20 components: [0.08820504 0.06530935 0.046001   0.04035678 0.03660978 0.03427322\n",
            " 0.0331798  0.02755872 0.02607968 0.02219459 0.02159858 0.01982354\n",
            " 0.01901992 0.01805183 0.01665124 0.0162028 ]\n",
            "Creating RawArray with float64 data, n_channels=23, n_times=92160\n",
            "    Range : 0 ... 92159 =      0.000 ...   359.996 secs\n",
            "Ready.\n",
            "Filtering raw data in 1 contiguous segment\n",
            "Setting up band-pass filter from 1 - 50 Hz\n",
            "\n",
            "FIR filter parameters\n",
            "---------------------\n",
            "Designing a one-pass, zero-phase, non-causal bandpass filter:\n",
            "- Windowed time-domain design (firwin) method\n",
            "- Hamming window with 0.0194 passband ripple and 53 dB stopband attenuation\n",
            "- Lower passband edge: 1.00\n",
            "- Lower transition bandwidth: 1.00 Hz (-6 dB cutoff frequency: 0.50 Hz)\n",
            "- Upper passband edge: 50.00 Hz\n",
            "- Upper transition bandwidth: 12.50 Hz (-6 dB cutoff frequency: 56.25 Hz)\n",
            "- Filter length: 845 samples (3.301 s)\n",
            "\n"
          ]
        },
        {
          "name": "stderr",
          "output_type": "stream",
          "text": [
            "[Parallel(n_jobs=1)]: Done  17 tasks      | elapsed:    0.1s\n"
          ]
        },
        {
          "name": "stdout",
          "output_type": "stream",
          "text": [
            "Fitting ICA to data using 23 channels (please be patient, this may take a while)\n",
            "Selecting by number: 23 components\n",
            "Fitting ICA took 8.5s.\n"
          ]
        },
        {
          "name": "stderr",
          "output_type": "stream",
          "text": [
            "<ipython-input-16-0be77fa5ad3f>:58: RuntimeWarning: Using n_components=23 (resulting in n_components_=23) may lead to an unstable mixing matrix estimation because the ratio between the largest (8.4) and smallest (7.9e-33) variances is too large (> 1e6); consider setting n_components=0.999999 or an integer <= 21\n",
            "  ica.fit(raw_epoch)\n"
          ]
        },
        {
          "name": "stdout",
          "output_type": "stream",
          "text": [
            "File chb08_05.edf - Epoch 4/10: Explained variance ratio by first 20 components: [0.10267393 0.07334102 0.06359627 0.04992945 0.03477728 0.03353576\n",
            " 0.03247534 0.02587405 0.02421499 0.01991182 0.01892952 0.01868455\n",
            " 0.01735601 0.01659589 0.01403622 0.01382634]\n",
            "Creating RawArray with float64 data, n_channels=23, n_times=92160\n",
            "    Range : 0 ... 92159 =      0.000 ...   359.996 secs\n",
            "Ready.\n",
            "Filtering raw data in 1 contiguous segment\n",
            "Setting up band-pass filter from 1 - 50 Hz\n",
            "\n",
            "FIR filter parameters\n",
            "---------------------\n",
            "Designing a one-pass, zero-phase, non-causal bandpass filter:\n",
            "- Windowed time-domain design (firwin) method\n",
            "- Hamming window with 0.0194 passband ripple and 53 dB stopband attenuation\n",
            "- Lower passband edge: 1.00\n",
            "- Lower transition bandwidth: 1.00 Hz (-6 dB cutoff frequency: 0.50 Hz)\n",
            "- Upper passband edge: 50.00 Hz\n",
            "- Upper transition bandwidth: 12.50 Hz (-6 dB cutoff frequency: 56.25 Hz)\n",
            "- Filter length: 845 samples (3.301 s)\n",
            "\n"
          ]
        },
        {
          "name": "stderr",
          "output_type": "stream",
          "text": [
            "[Parallel(n_jobs=1)]: Done  17 tasks      | elapsed:    0.1s\n"
          ]
        },
        {
          "name": "stdout",
          "output_type": "stream",
          "text": [
            "Fitting ICA to data using 23 channels (please be patient, this may take a while)\n",
            "Selecting by number: 23 components\n",
            "Fitting ICA took 6.1s.\n"
          ]
        },
        {
          "name": "stderr",
          "output_type": "stream",
          "text": [
            "<ipython-input-16-0be77fa5ad3f>:58: RuntimeWarning: Using n_components=23 (resulting in n_components_=23) may lead to an unstable mixing matrix estimation because the ratio between the largest (10) and smallest (3e-32) variances is too large (> 1e6); consider setting n_components=0.999999 or an integer <= 21\n",
            "  ica.fit(raw_epoch)\n"
          ]
        },
        {
          "name": "stdout",
          "output_type": "stream",
          "text": [
            "File chb08_05.edf - Epoch 5/10: Explained variance ratio by first 20 components: [0.10793416 0.08409023 0.07022474 0.05358967 0.03893734 0.03226207\n",
            " 0.02917768 0.02865933 0.02060554 0.02032156 0.01889858 0.01768581\n",
            " 0.01605528 0.01482034 0.01438317 0.01253156]\n",
            "Creating RawArray with float64 data, n_channels=23, n_times=92160\n",
            "    Range : 0 ... 92159 =      0.000 ...   359.996 secs\n",
            "Ready.\n",
            "Filtering raw data in 1 contiguous segment\n",
            "Setting up band-pass filter from 1 - 50 Hz\n",
            "\n",
            "FIR filter parameters\n",
            "---------------------\n",
            "Designing a one-pass, zero-phase, non-causal bandpass filter:\n",
            "- Windowed time-domain design (firwin) method\n",
            "- Hamming window with 0.0194 passband ripple and 53 dB stopband attenuation\n",
            "- Lower passband edge: 1.00\n",
            "- Lower transition bandwidth: 1.00 Hz (-6 dB cutoff frequency: 0.50 Hz)\n",
            "- Upper passband edge: 50.00 Hz\n",
            "- Upper transition bandwidth: 12.50 Hz (-6 dB cutoff frequency: 56.25 Hz)\n",
            "- Filter length: 845 samples (3.301 s)\n",
            "\n"
          ]
        },
        {
          "name": "stderr",
          "output_type": "stream",
          "text": [
            "[Parallel(n_jobs=1)]: Done  17 tasks      | elapsed:    0.1s\n"
          ]
        },
        {
          "name": "stdout",
          "output_type": "stream",
          "text": [
            "Fitting ICA to data using 23 channels (please be patient, this may take a while)\n",
            "Selecting by number: 23 components\n",
            "Fitting ICA took 11.4s.\n"
          ]
        },
        {
          "name": "stderr",
          "output_type": "stream",
          "text": [
            "<ipython-input-16-0be77fa5ad3f>:58: RuntimeWarning: Using n_components=23 (resulting in n_components_=23) may lead to an unstable mixing matrix estimation because the ratio between the largest (7) and smallest (1.5e-32) variances is too large (> 1e6); consider setting n_components=0.999999 or an integer <= 21\n",
            "  ica.fit(raw_epoch)\n"
          ]
        },
        {
          "name": "stdout",
          "output_type": "stream",
          "text": [
            "File chb08_05.edf - Epoch 6/10: Explained variance ratio by first 20 components: [0.08433455 0.0766145  0.05285339 0.0443849  0.03400484 0.03169433\n",
            " 0.02920201 0.02762633 0.02379887 0.0223791  0.01940032 0.0180712\n",
            " 0.01787183 0.01603609 0.0151743  0.01448762]\n",
            "Creating RawArray with float64 data, n_channels=23, n_times=92160\n",
            "    Range : 0 ... 92159 =      0.000 ...   359.996 secs\n",
            "Ready.\n",
            "Filtering raw data in 1 contiguous segment\n",
            "Setting up band-pass filter from 1 - 50 Hz\n",
            "\n",
            "FIR filter parameters\n",
            "---------------------\n",
            "Designing a one-pass, zero-phase, non-causal bandpass filter:\n",
            "- Windowed time-domain design (firwin) method\n",
            "- Hamming window with 0.0194 passband ripple and 53 dB stopband attenuation\n",
            "- Lower passband edge: 1.00\n",
            "- Lower transition bandwidth: 1.00 Hz (-6 dB cutoff frequency: 0.50 Hz)\n",
            "- Upper passband edge: 50.00 Hz\n",
            "- Upper transition bandwidth: 12.50 Hz (-6 dB cutoff frequency: 56.25 Hz)\n",
            "- Filter length: 845 samples (3.301 s)\n",
            "\n"
          ]
        },
        {
          "name": "stderr",
          "output_type": "stream",
          "text": [
            "[Parallel(n_jobs=1)]: Done  17 tasks      | elapsed:    0.1s\n"
          ]
        },
        {
          "name": "stdout",
          "output_type": "stream",
          "text": [
            "Fitting ICA to data using 23 channels (please be patient, this may take a while)\n",
            "Selecting by number: 23 components\n",
            "Fitting ICA took 6.8s.\n"
          ]
        },
        {
          "name": "stderr",
          "output_type": "stream",
          "text": [
            "<ipython-input-16-0be77fa5ad3f>:58: RuntimeWarning: Using n_components=23 (resulting in n_components_=23) may lead to an unstable mixing matrix estimation because the ratio between the largest (8.3) and smallest (3e-32) variances is too large (> 1e6); consider setting n_components=0.999999 or an integer <= 21\n",
            "  ica.fit(raw_epoch)\n"
          ]
        },
        {
          "name": "stdout",
          "output_type": "stream",
          "text": [
            "File chb08_05.edf - Epoch 7/10: Explained variance ratio by first 20 components: [0.10497232 0.0861891  0.07512245 0.05486013 0.03921909 0.0363882\n",
            " 0.0289491  0.0276357  0.02094894 0.02061659 0.02011237 0.01840207\n",
            " 0.01752637 0.01548386 0.01406971 0.01294768]\n",
            "Creating RawArray with float64 data, n_channels=23, n_times=92160\n",
            "    Range : 0 ... 92159 =      0.000 ...   359.996 secs\n",
            "Ready.\n",
            "Filtering raw data in 1 contiguous segment\n",
            "Setting up band-pass filter from 1 - 50 Hz\n",
            "\n",
            "FIR filter parameters\n",
            "---------------------\n",
            "Designing a one-pass, zero-phase, non-causal bandpass filter:\n",
            "- Windowed time-domain design (firwin) method\n",
            "- Hamming window with 0.0194 passband ripple and 53 dB stopband attenuation\n",
            "- Lower passband edge: 1.00\n",
            "- Lower transition bandwidth: 1.00 Hz (-6 dB cutoff frequency: 0.50 Hz)\n",
            "- Upper passband edge: 50.00 Hz\n",
            "- Upper transition bandwidth: 12.50 Hz (-6 dB cutoff frequency: 56.25 Hz)\n",
            "- Filter length: 845 samples (3.301 s)\n",
            "\n"
          ]
        },
        {
          "name": "stderr",
          "output_type": "stream",
          "text": [
            "[Parallel(n_jobs=1)]: Done  17 tasks      | elapsed:    0.1s\n"
          ]
        }
      ],
      "source": [
        "from sklearn.preprocessing import StandardScaler\n",
        "\n",
        "# Function to process a single EDF file\n",
        "def process_edf_file(edf_file):\n",
        "    edf_file_path = os.path.join(edf_dir_path, edf_file)\n",
        "\n",
        "    # Load the EDF file\n",
        "    raw = mne.io.read_raw_edf(edf_file_path, preload=True)\n",
        "\n",
        "    # Get signal parameters\n",
        "    signal_length = raw.n_times\n",
        "    sfreq = raw.info['sfreq']\n",
        "    n_channels = len(raw.ch_names)\n",
        "    signal_labels = raw.ch_names\n",
        "\n",
        "    epoch_length_samples = int(360 * sfreq)\n",
        "    num_epochs = signal_length // epoch_length_samples\n",
        "\n",
        "    batch_size = 20  # Number of epochs to process in one batch\n",
        "    cnn_features = []\n",
        "\n",
        "    for batch_start in range(0, num_epochs, batch_size):\n",
        "        batch_end = min(batch_start + batch_size, num_epochs)\n",
        "        batch_data = []\n",
        "\n",
        "        for epoch_idx in range(batch_start, batch_end):\n",
        "            start_idx = epoch_idx * epoch_length_samples\n",
        "            end_idx = (epoch_idx + 1) * epoch_length_samples\n",
        "            if end_idx > signal_length:\n",
        "                end_idx = signal_length\n",
        "\n",
        "            signals = raw.get_data(start=start_idx, stop=end_idx)\n",
        "\n",
        "            info = mne.create_info(ch_names=signal_labels, sfreq=sfreq, ch_types='eeg')\n",
        "            raw_epoch = mne.io.RawArray(signals, info)\n",
        "            raw_epoch.filter(1., 50., fir_design='firwin')\n",
        "\n",
        "            scales = range(1, 128)\n",
        "            cwt_data = np.zeros((n_channels, len(scales), signals.shape[1]))\n",
        "\n",
        "            # Compute CWT using PyTorch\n",
        "            signals_torch = torch.tensor(raw_epoch.get_data(), dtype=torch.float32).to(device)\n",
        "            for i in range(n_channels):\n",
        "                cwt_result, _ = pywt.cwt(signals_torch[i].cpu().numpy(), scales, 'morl')\n",
        "                cwt_data[i, :, :] = cwt_result\n",
        "\n",
        "            cwt_data = torch.tensor(cwt_data, dtype=torch.float32).to(device)\n",
        "\n",
        "            if torch.any(torch.isnan(cwt_data)) or torch.any(torch.isinf(cwt_data)):\n",
        "                cwt_data = torch.nan_to_num(cwt_data)\n",
        "\n",
        "            cwt_data_reshaped = cwt_data.view(n_channels * len(scales), signals.shape[1]).T\n",
        "\n",
        "            if torch.any(torch.isnan(cwt_data_reshaped)) or torch.any(torch.isinf(cwt_data_reshaped)):\n",
        "                cwt_data_reshaped = torch.nan_to_num(cwt_data_reshaped)\n",
        "\n",
        "            # Apply ICA (still on CPU)\n",
        "            ica.fit(raw_epoch)\n",
        "\n",
        "            # Normalize the data before PCA\n",
        "            scaler = StandardScaler()\n",
        "            cwt_data_normalized = scaler.fit_transform(cwt_data_reshaped.cpu().numpy())\n",
        "\n",
        "            # Apply PCA\n",
        "            pca_data = pca.fit_transform(cwt_data_normalized)\n",
        "            batch_data.append(pca_data)\n",
        "\n",
        "            print(f\"File {edf_file} - Epoch {epoch_idx + 1}/{num_epochs}: Explained variance ratio by first 20 components: {pca.explained_variance_ratio_}\")\n",
        "\n",
        "            # Clear variables to free memory\n",
        "            del raw_epoch\n",
        "            del cwt_data\n",
        "            del cwt_data_reshaped\n",
        "            del cwt_data_normalized\n",
        "            gc.collect()\n",
        "\n",
        "        batch_data_array = np.vstack(batch_data)\n",
        "        pca_data_tensor = torch.tensor(batch_data_array, dtype=torch.float32).unsqueeze(2).to(device)\n",
        "\n",
        "        # Create DataLoader for the PCA data\n",
        "        dataset = TensorDataset(pca_data_tensor)\n",
        "        data_loader = DataLoader(dataset, batch_size=32, shuffle=False)\n",
        "\n",
        "        # Extract features using the CNN model\n",
        "        cnn_model.eval()\n",
        "        with torch.no_grad():\n",
        "            for batch in data_loader:\n",
        "                inputs = batch[0].permute(0, 2, 1)  # Change the shape to (batch_size, channels, length)\n",
        "                outputs = cnn_model(inputs)\n",
        "                cnn_features.append(outputs.cpu().numpy())\n",
        "\n",
        "    cnn_features_array = np.vstack(cnn_features)\n",
        "\n",
        "    del raw\n",
        "    del cnn_features\n",
        "    del batch_data\n",
        "    del batch_data_array\n",
        "    gc.collect()\n",
        "\n",
        "    # Further reduce the features using PCA\n",
        "    final_pca = PCA(n_components=16)\n",
        "    reduced_features = final_pca.fit_transform(cnn_features_array)\n",
        "\n",
        "    # Quantize the features to 32-bit integers\n",
        "    reduced_features_quantized = np.round(reduced_features * 1e6).astype(np.int32)\n",
        "\n",
        "    return reduced_features_quantized\n",
        "\n",
        "# Process all EDF files and save the extracted features separately\n",
        "for edf_file in edf_files:\n",
        "    features = process_edf_file(edf_file)\n",
        "    has_seizure_label = 1 if has_seizure(edf_file) else 0\n",
        "    features_with_label = np.column_stack((features, np.full((features.shape[0], 1), has_seizure_label)))\n",
        "    output_file_path = os.path.join(output_dir_path, f'cnn_features_{os.path.splitext(edf_file)[0]}.csv')\n",
        "    pd.DataFrame(features_with_label).to_csv(output_file_path, index=False, header=False)  # Save without header\n",
        "    print(f\"Processed and saved features for file {edf_file}.\")\n",
        "\n",
        "print(\"Processing and feature extraction complete for all EDF files.\")\n"
      ]
    },
    {
      "cell_type": "markdown",
      "metadata": {
        "id": "TN9YF6uTnV_4"
      },
      "source": [
        "# compare the statistics of two of the feature files.\n",
        "\n",
        "We will:\n",
        "\n",
        "*   Load two files.\n",
        "*   Compare basic statistics such as mean, standard deviation, and value ranges.\n",
        "*   Check the distribution of classes in both files.\n",
        "   \n",
        "\n"
      ]
    },
    {
      "cell_type": "code",
      "execution_count": null,
      "metadata": {
        "id": "jsHf6GrDnkkG"
      },
      "outputs": [],
      "source": [
        "\n",
        "# Define paths\n",
        "output_dir_path = '/content/drive/MyDrive/Epileptic_Seizure_Classification_Project/cnn_Extracted_Features_/chb01'\n",
        "feature_files = [os.path.join(output_dir_path, f) for f in os.listdir(output_dir_path) if f.startswith('cnn_features_') and f.endswith('.csv')]\n",
        "\n",
        "# Function to load and describe a file\n",
        "def load_and_describe(file_path):\n",
        "    df = pd.read_csv(file_path, header=None)\n",
        "    description = df.describe()\n",
        "    class_distribution = df.iloc[:, -1].value_counts()\n",
        "    return description, class_distribution, df\n",
        "\n",
        "# Load and describe two files\n",
        "file1_path = feature_files[0]\n",
        "file2_path = feature_files[1]\n",
        "\n",
        "description1, class_distribution1, df1 = load_and_describe(file1_path)\n",
        "description2, class_distribution2, df2 = load_and_describe(file2_path)\n",
        "\n",
        "# Print descriptions and class distributions\n",
        "print(f\"Statistics for {file1_path}:\\n\")\n",
        "print(description1)\n",
        "print(\"\\nClass Distribution:\")\n",
        "print(class_distribution1)\n",
        "\n",
        "print(f\"\\n\\nStatistics for {file2_path}:\\n\")\n",
        "print(description2)\n",
        "print(\"\\nClass Distribution:\")\n",
        "print(class_distribution2)\n",
        "\n",
        "# Compare columns if they are different\n",
        "if not df1.equals(df2):\n",
        "    print(\"\\n\\nColumns are not the same, \")\n",
        "\n"
      ]
    }
  ],
  "metadata": {
    "colab": {
      "provenance": []
    },
    "kernelspec": {
      "display_name": "Python 3",
      "name": "python3"
    },
    "language_info": {
      "name": "python"
    }
  },
  "nbformat": 4,
  "nbformat_minor": 0
}
